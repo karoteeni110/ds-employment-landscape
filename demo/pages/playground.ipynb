{
 "cells": [
  {
   "cell_type": "code",
   "execution_count": 2,
   "metadata": {},
   "outputs": [
    {
     "name": "stdout",
     "output_type": "stream",
     "text": [
      "../../data/crawled_jobs_2023-10-29.csv\n",
      "../../data/crawled_jobs_2023-11-02.csv\n",
      "../../data/crawled_jobs_2023-10-28.csv\n",
      "../../data/crawled_jobs_2023-11-03.csv\n",
      "../../data/crawled_jobs_2023-11-01.csv\n",
      "../../data/crawled_jobs_2023-10-22.csv\n",
      "../../data/crawled_jobs_2023-10-31.csv\n",
      "../../data/crawled_jobs_2023-10-30.csv\n"
     ]
    }
   ],
   "source": [
    "from glob import glob\n",
    "\n",
    "for csv in glob(\"../../data/crawled_jobs_????-??-??.csv\"):\n",
    "    print(csv)"
   ]
  },
  {
   "cell_type": "code",
   "execution_count": 3,
   "metadata": {},
   "outputs": [
    {
     "data": {
      "text/plain": [
       "array([[-0.19303182]])"
      ]
     },
     "execution_count": 3,
     "metadata": {},
     "output_type": "execute_result"
    }
   ],
   "source": [
    "import numpy as np\n",
    "np.random.randn(1, 1)"
   ]
  },
  {
   "cell_type": "code",
   "execution_count": 4,
   "metadata": {},
   "outputs": [
    {
     "data": {
      "text/plain": [
       "'../../data/crawled_jobs_2023-10-29.csv'"
      ]
     },
     "execution_count": 4,
     "metadata": {},
     "output_type": "execute_result"
    }
   ],
   "source": [
    "glob(\"../../data/crawled_jobs_????-??-??.csv\")[0]"
   ]
  },
  {
   "cell_type": "code",
   "execution_count": 3,
   "metadata": {},
   "outputs": [
    {
     "data": {
      "text/plain": [
       "'2023-10-29'"
      ]
     },
     "execution_count": 3,
     "metadata": {},
     "output_type": "execute_result"
    }
   ],
   "source": [
    "import os \n",
    "from glob import glob\n",
    "\n",
    "os.path.basename(glob(\"../../data/crawled_jobs_????-??-??.csv\")[0])[-14:-4]"
   ]
  },
  {
   "cell_type": "code",
   "execution_count": 21,
   "metadata": {},
   "outputs": [],
   "source": [
    "import pandas as pd \n",
    "def get_daily_data(csv_path):\n",
    "    # Number of job postings\n",
    "    x = len(pd.read_csv(csv_path))\n",
    "    # Date -- Parse it from filename\n",
    "    fname = os.path.basename(csv_path)\n",
    "    y = fname[-14:-4]\n",
    "    return pd.DataFrame({\n",
    "        \"date\": y,\n",
    "        \"n_postings\": x\n",
    "    })"
   ]
  },
  {
   "cell_type": "code",
   "execution_count": 25,
   "metadata": {},
   "outputs": [
    {
     "data": {
      "text/html": [
       "<div>\n",
       "<style scoped>\n",
       "    .dataframe tbody tr th:only-of-type {\n",
       "        vertical-align: middle;\n",
       "    }\n",
       "\n",
       "    .dataframe tbody tr th {\n",
       "        vertical-align: top;\n",
       "    }\n",
       "\n",
       "    .dataframe thead th {\n",
       "        text-align: right;\n",
       "    }\n",
       "</style>\n",
       "<table border=\"1\" class=\"dataframe\">\n",
       "  <thead>\n",
       "    <tr style=\"text-align: right;\">\n",
       "      <th></th>\n",
       "      <th>date</th>\n",
       "      <th>n_postings</th>\n",
       "    </tr>\n",
       "  </thead>\n",
       "  <tbody>\n",
       "    <tr>\n",
       "      <th>0</th>\n",
       "      <td>abc</td>\n",
       "      <td>999</td>\n",
       "    </tr>\n",
       "  </tbody>\n",
       "</table>\n",
       "</div>"
      ],
      "text/plain": [
       "  date  n_postings\n",
       "0  abc         999"
      ]
     },
     "execution_count": 25,
     "metadata": {},
     "output_type": "execute_result"
    }
   ],
   "source": [
    "# print(get_daily_data(\"../../data/crawled_jobs_2023-11-03.csv\"))\n",
    "pd.DataFrame(\n",
    "    {\n",
    "        \"date\": [\"abc\"],\n",
    "        \"n_postings\": [999]\n",
    "    }\n",
    ")"
   ]
  },
  {
   "cell_type": "code",
   "execution_count": 26,
   "metadata": {},
   "outputs": [
    {
     "data": {
      "text/plain": [
       "True"
      ]
     },
     "execution_count": 26,
     "metadata": {},
     "output_type": "execute_result"
    }
   ],
   "source": [
    "from pathlib import Path\n",
    "\n",
    "Path(\"../../data/crawled_jobs_2023-10-28.csv\").exists()"
   ]
  },
  {
   "cell_type": "code",
   "execution_count": 16,
   "metadata": {},
   "outputs": [
    {
     "data": {
      "text/html": [
       "<div>\n",
       "<style scoped>\n",
       "    .dataframe tbody tr th:only-of-type {\n",
       "        vertical-align: middle;\n",
       "    }\n",
       "\n",
       "    .dataframe tbody tr th {\n",
       "        vertical-align: top;\n",
       "    }\n",
       "\n",
       "    .dataframe thead th {\n",
       "        text-align: right;\n",
       "    }\n",
       "</style>\n",
       "<table border=\"1\" class=\"dataframe\">\n",
       "  <thead>\n",
       "    <tr style=\"text-align: right;\">\n",
       "      <th></th>\n",
       "      <th>date</th>\n",
       "      <th>n_postings</th>\n",
       "    </tr>\n",
       "  </thead>\n",
       "  <tbody>\n",
       "    <tr>\n",
       "      <th>n_postings</th>\n",
       "      <td>2023-10-28</td>\n",
       "      <td>383</td>\n",
       "    </tr>\n",
       "  </tbody>\n",
       "</table>\n",
       "</div>"
      ],
      "text/plain": [
       "                  date  n_postings\n",
       "n_postings  2023-10-28         383"
      ]
     },
     "execution_count": 16,
     "metadata": {},
     "output_type": "execute_result"
    }
   ],
   "source": [
    "get_daily_data(csv_path=\"../../data/crawled_jobs_2023-10-28.csv\")"
   ]
  },
  {
   "cell_type": "code",
   "execution_count": 28,
   "metadata": {},
   "outputs": [
    {
     "name": "stdout",
     "output_type": "stream",
     "text": [
      "['grape', 'banana', 'grape', 'apple', 'apple']\n"
     ]
    }
   ],
   "source": [
    "import random\n",
    "\n",
    "# Your list of strings\n",
    "original_list = [\"apple\", \"banana\", \"cherry\", \"date\", \"fig\", \"grape\"]\n",
    "\n",
    "# Desired length of the new list\n",
    "desired_length = 5\n",
    "\n",
    "# Generate a new list with randomly picked strings\n",
    "random_list = random.choices(original_list, k=desired_length)\n",
    "\n",
    "print(random_list)\n"
   ]
  },
  {
   "cell_type": "code",
   "execution_count": 29,
   "metadata": {},
   "outputs": [
    {
     "data": {
      "text/plain": [
       "['Data Engineer',\n",
       " 'Data Analyst',\n",
       " 'Data Engineer',\n",
       " 'Data Engineer',\n",
       " 'Data Scientist',\n",
       " 'Data Scientist',\n",
       " 'Data Analyst',\n",
       " 'Data Engineer',\n",
       " 'Data Analyst',\n",
       " 'Data Engineer',\n",
       " 'Data Engineer',\n",
       " 'Data Engineer',\n",
       " 'Data Engineer',\n",
       " 'Data Analyst',\n",
       " 'Data Analyst',\n",
       " 'Data Engineer',\n",
       " 'Data Scientist',\n",
       " 'Data Analyst',\n",
       " 'Data Engineer',\n",
       " 'Data Analyst',\n",
       " 'Data Analyst',\n",
       " 'Data Scientist',\n",
       " 'Data Analyst',\n",
       " 'Data Scientist',\n",
       " 'Data Analyst',\n",
       " 'Data Scientist',\n",
       " 'Data Scientist',\n",
       " 'Data Analyst',\n",
       " 'Data Analyst',\n",
       " 'Data Analyst',\n",
       " 'Data Scientist',\n",
       " 'Data Scientist',\n",
       " 'Data Engineer',\n",
       " 'Data Scientist',\n",
       " 'Data Analyst',\n",
       " 'Data Analyst',\n",
       " 'Data Analyst',\n",
       " 'Data Analyst',\n",
       " 'Data Analyst',\n",
       " 'Data Analyst',\n",
       " 'Data Analyst',\n",
       " 'Data Engineer',\n",
       " 'Data Engineer',\n",
       " 'Data Scientist',\n",
       " 'Data Engineer',\n",
       " 'Data Engineer',\n",
       " 'Data Scientist',\n",
       " 'Data Analyst',\n",
       " 'Data Analyst',\n",
       " 'Data Engineer',\n",
       " 'Data Engineer',\n",
       " 'Data Engineer',\n",
       " 'Data Analyst',\n",
       " 'Data Analyst',\n",
       " 'Data Engineer',\n",
       " 'Data Scientist',\n",
       " 'Data Engineer',\n",
       " 'Data Analyst',\n",
       " 'Data Scientist',\n",
       " 'Data Engineer',\n",
       " 'Data Engineer',\n",
       " 'Data Engineer',\n",
       " 'Data Scientist',\n",
       " 'Data Analyst',\n",
       " 'Data Scientist',\n",
       " 'Data Engineer',\n",
       " 'Data Scientist',\n",
       " 'Data Scientist',\n",
       " 'Data Engineer',\n",
       " 'Data Scientist',\n",
       " 'Data Engineer',\n",
       " 'Data Engineer',\n",
       " 'Data Engineer',\n",
       " 'Data Scientist',\n",
       " 'Data Scientist',\n",
       " 'Data Analyst',\n",
       " 'Data Engineer',\n",
       " 'Data Analyst',\n",
       " 'Data Engineer',\n",
       " 'Data Engineer',\n",
       " 'Data Engineer',\n",
       " 'Data Engineer',\n",
       " 'Data Analyst',\n",
       " 'Data Scientist',\n",
       " 'Data Engineer',\n",
       " 'Data Scientist',\n",
       " 'Data Analyst',\n",
       " 'Data Engineer',\n",
       " 'Data Engineer',\n",
       " 'Data Engineer',\n",
       " 'Data Analyst',\n",
       " 'Data Scientist',\n",
       " 'Data Scientist',\n",
       " 'Data Engineer',\n",
       " 'Data Engineer',\n",
       " 'Data Analyst',\n",
       " 'Data Analyst',\n",
       " 'Data Scientist',\n",
       " 'Data Analyst',\n",
       " 'Data Scientist']"
      ]
     },
     "execution_count": 29,
     "metadata": {},
     "output_type": "execute_result"
    }
   ],
   "source": [
    "\n",
    "DATA_JOB_TYPES = [\"Data Scientist\", \"Data Engineer\", \"Data Analyst\"]\n",
    "random.choices(DATA_JOB_TYPES, k=100)"
   ]
  },
  {
   "cell_type": "code",
   "execution_count": null,
   "metadata": {},
   "outputs": [],
   "source": []
  }
 ],
 "metadata": {
  "kernelspec": {
   "display_name": "Python 3",
   "language": "python",
   "name": "python3"
  },
  "language_info": {
   "codemirror_mode": {
    "name": "ipython",
    "version": 3
   },
   "file_extension": ".py",
   "mimetype": "text/x-python",
   "name": "python",
   "nbconvert_exporter": "python",
   "pygments_lexer": "ipython3",
   "version": "3.10.8"
  }
 },
 "nbformat": 4,
 "nbformat_minor": 2
}
