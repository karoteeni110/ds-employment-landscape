{
 "cells": [
  {
   "cell_type": "markdown",
   "id": "766aecff-7fed-4e92-a509-eeef9b8c81a8",
   "metadata": {},
   "source": [
    "# Extract skills from job descriptions"
   ]
  },
  {
   "cell_type": "code",
   "execution_count": null,
   "id": "bcdbdb14",
   "metadata": {},
   "outputs": [],
   "source": []
  }
 ],
 "metadata": {
  "kernelspec": {
   "display_name": "Python 3 (ipykernel)",
   "language": "python",
   "name": "python3"
  },
  "language_info": {
   "codemirror_mode": {
    "name": "ipython",
    "version": 3
   },
   "file_extension": ".py",
   "mimetype": "text/x-python",
   "name": "python",
   "nbconvert_exporter": "python",
   "pygments_lexer": "ipython3",
   "version": "3.10.12"
  }
 },
 "nbformat": 4,
 "nbformat_minor": 5
}
