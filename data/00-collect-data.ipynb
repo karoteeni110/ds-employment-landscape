{
 "cells": [
  {
   "cell_type": "markdown",
   "metadata": {},
   "source": [
    "# Harvest Job Posting Data from Indeed and Linkedin"
   ]
  },
  {
   "cell_type": "markdown",
   "metadata": {},
   "source": [
    "## Linkedin\n",
    "\n",
    "### Download history data from Kaggle"
   ]
  },
  {
   "cell_type": "code",
   "execution_count": 1,
   "metadata": {},
   "outputs": [
    {
     "name": "stdout",
     "output_type": "stream",
     "text": [
      "Downloading linkedin-job-data.zip to /workspaces/ds-employment-landscape/data\n",
      " 82%|███████████████████████████████▏      | 7.00M/8.54M [00:00<00:00, 12.9MB/s]\n",
      "100%|██████████████████████████████████████| 8.54M/8.54M [00:00<00:00, 10.5MB/s]\n",
      "Downloading linkedin-job-2023.zip to /workspaces/ds-employment-landscape/data\n",
      " 94%|███████████████████████████████████▌  | 20.0M/21.4M [00:02<00:00, 9.39MB/s]\n",
      "100%|██████████████████████████████████████| 21.4M/21.4M [00:02<00:00, 7.59MB/s]\n"
     ]
    }
   ],
   "source": [
    "# 1. Download\n",
    "! kaggle datasets download -d shashankshukla123123/linkedin-job-data\n",
    "! kaggle datasets download -d rajatraj0502/linkedin-job-2023"
   ]
  },
  {
   "cell_type": "code",
   "execution_count": 3,
   "metadata": {},
   "outputs": [
    {
     "name": "stdout",
     "output_type": "stream",
     "text": [
      "Archive:  linkedin-job-data.zip\n",
      "  inflating: linkedin-job-data/linkdin_Job_data.csv  \n",
      "  inflating: linkedin-job-data/linkdin_Job_data.xlsx  \n"
     ]
    }
   ],
   "source": [
    "# 2. Unzip the datasets \n",
    "# ! fname=linkedin-job-2023 && unzip $fname.zip -d $fname/ && rm -rf $fname.zip\n",
    "# ! fname=linkedin-job-data && unzip $fname.zip -d $fname/ && rm -rf $fname.zip"
   ]
  },
  {
   "cell_type": "code",
   "execution_count": 5,
   "metadata": {},
   "outputs": [],
   "source": [
    "# 3. Remove the redundant \n",
    "! rm linkedin-job-data/linkdin_Job_data.xlsx"
   ]
  },
  {
   "cell_type": "markdown",
   "metadata": {},
   "source": [
    "### Scrape Indeed"
   ]
  },
  {
   "cell_type": "code",
   "execution_count": 5,
   "metadata": {},
   "outputs": [
    {
     "name": "stderr",
     "output_type": "stream",
     "text": [
      "ERROR:root:Invalid url\n"
     ]
    }
   ],
   "source": [
    "import Scrapset as m\n",
    "import pandas as pd\n",
    "\n",
    "indeed_df = m.indeed()\n",
    "indeed_data = indeed_df.indeed_jobs('https://fi.indeed.com', 40, 'data scientist')\n",
    "indeed_datf = pd.DataFrame(indeed_data)\n",
    "# indeed_datf.to_csv('indeed_jobs.csv', index=False)\n"
   ]
  },
  {
   "cell_type": "markdown",
   "metadata": {},
   "source": [
    "### Scrape LinkedIn"
   ]
  },
  {
   "cell_type": "markdown",
   "metadata": {},
   "source": []
  }
 ],
 "metadata": {
  "kernelspec": {
   "display_name": "Python 3",
   "language": "python",
   "name": "python3"
  },
  "language_info": {
   "codemirror_mode": {
    "name": "ipython",
    "version": 3
   },
   "file_extension": ".py",
   "mimetype": "text/x-python",
   "name": "python",
   "nbconvert_exporter": "python",
   "pygments_lexer": "ipython3",
   "version": "3.10.8"
  }
 },
 "nbformat": 4,
 "nbformat_minor": 2
}
