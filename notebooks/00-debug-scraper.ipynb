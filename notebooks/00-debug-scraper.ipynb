{
 "cells": [
  {
   "cell_type": "markdown",
   "id": "76f2d36d-f3e8-4424-934a-c2bc8cb11089",
   "metadata": {},
   "source": [
    "# Scrape Linkedin Data\n",
    "\n",
    "Crawling Linkedin is against the user agreement of Linkedin! This is used for educational purpose only."
   ]
  },
  {
   "cell_type": "code",
   "execution_count": 1,
   "id": "59e27530-b200-458c-b122-b467c762e337",
   "metadata": {},
   "outputs": [
    {
     "name": "stdout",
     "output_type": "stream",
     "text": [
      "linkedin-scraper==2.11.2\n"
     ]
    }
   ],
   "source": [
    "# Make sure we have installed the dependency\n",
    "! pip freeze | grep linkedin"
   ]
  },
  {
   "cell_type": "code",
   "execution_count": 2,
   "id": "68304544-289a-444a-8b2f-945b8945e1b3",
   "metadata": {},
   "outputs": [
    {
     "name": "stdout",
     "output_type": "stream",
     "text": [
      "Google Chrome 114.0.5735.90 \n"
     ]
    }
   ],
   "source": [
    "! google-chrome-stable --version"
   ]
  },
  {
   "cell_type": "code",
   "execution_count": 3,
   "id": "4159358e-81d6-49a8-b523-caf7c1c3cc0c",
   "metadata": {},
   "outputs": [],
   "source": [
    "from linkedin_scraper import JobSearch, Job, actions\n",
    "from selenium import webdriver\n",
    "from selenium.webdriver.chrome.options import Options\n",
    "\n",
    "import os\n",
    "from pprint import pprint\n",
    "\n",
    "def set_chrome_options() -> Options:\n",
    "    \"\"\"Sets chrome options for Selenium.\n",
    "    Chrome options for headless browser is enabled.\n",
    "    \"\"\"\n",
    "    chrome_options = Options()\n",
    "    chrome_options.add_argument(\"--headless\")\n",
    "    chrome_options.add_argument(\"--no-sandbox\")\n",
    "    chrome_options.add_argument(\"--disable-dev-shm-usage\")\n",
    "    chrome_prefs = {}\n",
    "    chrome_options.experimental_options[\"prefs\"] = chrome_prefs\n",
    "    chrome_prefs[\"profile.default_content_settings\"] = {\"images\": 2}\n",
    "    return chrome_options\n",
    "\n",
    "def scrape_job_search(keyword):\n",
    "    driver = webdriver.Chrome(options=set_chrome_options())\n",
    "    actions.login(driver, os.environ[\"EMAIL\"], os.environ[\"PWORD\"]) # if email and password isnt given, it'll prompt in terminal\n",
    "    print(\"... Logged in.\")\n",
    "    job_search = JobSearch(driver=driver, close_on_complete=False, scrape=False)\n",
    "\n",
    "    job_listings = job_search.search(keyword) # returns the list of `Job` from the first page\n",
    "    return job_listings\n",
    "\n",
    "def scrape_job(job_link):\n",
    "    driver = webdriver.Chrome(options=set_chrome_options())\n",
    "    actions.login(driver, os.environ[\"EMAIL\"], os.environ[\"PWORD\"]) # if email and password isnt given, it'll prompt in terminal\n",
    "    job = Job(job_link, driver=driver, close_on_complete=False)\n",
    "    return job"
   ]
  },
  {
   "cell_type": "markdown",
   "id": "bc312616-f217-4b66-9dfc-1c3961cc9e97",
   "metadata": {},
   "source": [
    "## 1. Define the keywords of data jobs"
   ]
  },
  {
   "cell_type": "code",
   "execution_count": 4,
   "id": "a40fb5ba-cd48-42d3-9dbb-de0ca0cce4c3",
   "metadata": {},
   "outputs": [
    {
     "name": "stdout",
     "output_type": "stream",
     "text": [
      "['data analyst',\n",
      " 'data scientist',\n",
      " 'data engineer',\n",
      " 'data researcher',\n",
      " 'machine learning scientist',\n",
      " 'machine learning engineer',\n",
      " 'machine learning researcher',\n",
      " 'computer vision scientist',\n",
      " 'computer vision engineer',\n",
      " 'computer vision researcher',\n",
      " 'nlp scientist',\n",
      " 'nlp engineer',\n",
      " 'nlp researcher',\n",
      " 'robotics scientist',\n",
      " 'robotics engineer',\n",
      " 'robotics researcher',\n",
      " 'multimodal scientist',\n",
      " 'multimodal engineer',\n",
      " 'multimodal researcher',\n",
      " 'ai scientist',\n",
      " 'ai engineer',\n",
      " 'ai researcher']\n",
      "['data',\n",
      " 'machine learning',\n",
      " 'computer vision',\n",
      " 'nlp',\n",
      " 'robotics',\n",
      " 'multimodal',\n",
      " 'ai']\n"
     ]
    }
   ],
   "source": [
    "_data_job_keywords_specific = [\"data analyst\"] + [prefix + \" \" + suffix \n",
    "                      for prefix in [\"data\", \"machine learning\", \"computer vision\", \"nlp\", \"robotics\", \"multimodal\", \"ai\"]\n",
    "                      for suffix in [\"scientist\", \"engineer\", \"researcher\"]\n",
    "                     ]\n",
    "_data_job_keywords_general = [\"data\", \"machine learning\", \"computer vision\", \"nlp\", \"robotics\", \"multimodal\", \"ai\"]\n",
    "pprint(_data_job_keywords_specific)\n",
    "pprint(_data_job_keywords_general)"
   ]
  },
  {
   "cell_type": "markdown",
   "id": "cec0e027-d9a3-4fa0-945c-be57316d179a",
   "metadata": {},
   "source": [
    "## 2. Crawl job listings"
   ]
  },
  {
   "cell_type": "markdown",
   "id": "949c424f-af0d-4d38-b2ce-25c105e51473",
   "metadata": {},
   "source": [
    "### Test run"
   ]
  },
  {
   "cell_type": "code",
   "execution_count": 5,
   "id": "247c825d-ea38-46f8-9b0c-e6eca26d1c83",
   "metadata": {},
   "outputs": [
    {
     "name": "stdout",
     "output_type": "stream",
     "text": [
      "... Logged in.\n"
     ]
    },
    {
     "data": {
      "text/plain": [
       "[<Job Data Analyst, Dream Blast Rovio Entertainment Corporation>,\n",
       " <Job Data Scientist MedEngine>,\n",
       " <Job Data Platform Lead Architect - Tietoevry Care Data and Analytics Tietoevry>,\n",
       " <Job Digital Cloud Solution Architect - Azure - Danish, Finnish or Norwegian speakers Microsoft>,\n",
       " <Job Data Engineer The Hub>,\n",
       " <Job Data Engineer The Hub>,\n",
       " <Job Monitoring & Surveillance Specialist Nordea>,\n",
       " <Job Data Science - Machine Learning Engineer Wolt>,\n",
       " <Job Business Analyst / Senior Business Analyst to Data and Analysis in KYC Nordea>,\n",
       " <Job Data Engineer Nixu Corporation>,\n",
       " <Job Nordic IT Data Engineer - Nordic Marketing Company AstraZeneca>,\n",
       " <Job Senior SOC Analyst Fortum>,\n",
       " <Job Senior Game Analyst Netflix>,\n",
       " <Job Grow as Data Engineer with us – Solita´s personalised onboarding program Solita>]"
      ]
     },
     "execution_count": 5,
     "metadata": {},
     "output_type": "execute_result"
    }
   ],
   "source": [
    "_job_listings = scrape_job_search(\"data\")\n",
    "_job_listings"
   ]
  },
  {
   "cell_type": "code",
   "execution_count": 6,
   "id": "ed88f474-fffd-459b-8088-a1d3bb16ca72",
   "metadata": {},
   "outputs": [
    {
     "data": {
      "text/plain": [
       "{'driver': <selenium.webdriver.chrome.webdriver.WebDriver (session=\"1f293d2e43047a8f28e39a32c5b8d8ff\")>,\n",
       " 'linkedin_url': 'https://www.linkedin.com/jobs/view/3714372433/?eBP=CwEAAAGLTdUQpGQF09-CdoWc4cusOWm2TWIvEtSvECM1xlqP_afKMjBs7FBkDqUaztu-25__cZWKZpbOxsDNCwt_3gOFrxADsg7mdhXdkC3RikGDvmr4yZClqua33seWZQr_8ZGev4iaDe2a8Wv4G3XUeGX5C_q61BrXKDLP5ZJhyqeux_H6TXFQNw2Gk5onS3v7UGb1zOaYe7M533VBpmAh66p9dgFhnwfeXLpRTL_du8_7zLg4DrEKKkYvurw4g5keHYDK9sZnnX_VkxyMonT0oOXESInx16-pjjx367szmw-vLZmXhWiXz7wPopucJddZT4eKiy9zlKlpIspAWb35fVjSaUDWeB-TBaDgYtrrgg_uAklhZVfIOpE-cNTOYmkA5pgPv9CGxP1mNJxq4VXmeurSYlVcl6U&refId=brZtKrySfWZiFfEufTSwbw%3D%3D&trackingId=oxvrW%2B0EmnW4w51kDgqkug%3D%3D&trk=flagship3_search_srp_jobs',\n",
       " 'job_title': 'Data Analyst, Dream Blast',\n",
       " 'company': 'Rovio Entertainment Corporation',\n",
       " 'company_linkedin_url': None,\n",
       " 'location': 'Helsinki, Uusimaa, Finland (Hybrid)',\n",
       " 'posted_date': None,\n",
       " 'applicant_count': None,\n",
       " 'job_description': None,\n",
       " 'benefits': None}"
      ]
     },
     "execution_count": 6,
     "metadata": {},
     "output_type": "execute_result"
    }
   ],
   "source": [
    "vars(_job_listings[0])"
   ]
  },
  {
   "cell_type": "code",
   "execution_count": 11,
   "id": "2ccd1623-447e-4386-ae65-efb94c63acba",
   "metadata": {},
   "outputs": [],
   "source": [
    "_job_listings[0].WAIT_FOR_ELEMENT_TIMEOUT = 30"
   ]
  },
  {
   "cell_type": "code",
   "execution_count": 12,
   "id": "bc7a23c1-a529-4f41-a78f-eb0c0b60f56a",
   "metadata": {},
   "outputs": [
    {
     "ename": "TimeoutException",
     "evalue": "Message: \nStacktrace:\n#0 0x556cccdef4e3 <unknown>\n#1 0x556cccb1ec76 <unknown>\n#2 0x556cccb5ac96 <unknown>\n#3 0x556cccb5adc1 <unknown>\n#4 0x556cccb947f4 <unknown>\n#5 0x556cccb7a03d <unknown>\n#6 0x556cccb9230e <unknown>\n#7 0x556cccb79de3 <unknown>\n#8 0x556cccb4f2dd <unknown>\n#9 0x556cccb5034e <unknown>\n#10 0x556cccdaf3e4 <unknown>\n#11 0x556cccdb33d7 <unknown>\n#12 0x556cccdbdb20 <unknown>\n#13 0x556cccdb4023 <unknown>\n#14 0x556cccd821aa <unknown>\n#15 0x556cccdd86b8 <unknown>\n#16 0x556cccdd8847 <unknown>\n#17 0x556cccde8243 <unknown>\n#18 0x7f3e74894ac3 <unknown>\n",
     "output_type": "error",
     "traceback": [
      "\u001b[0;31m---------------------------------------------------------------------------\u001b[0m",
      "\u001b[0;31mTimeoutException\u001b[0m                          Traceback (most recent call last)",
      "Cell \u001b[0;32mIn[12], line 2\u001b[0m\n\u001b[1;32m      1\u001b[0m \u001b[38;5;66;03m# This doesn't work: Timeout Error\u001b[39;00m\n\u001b[0;32m----> 2\u001b[0m \u001b[43m_job_listings\u001b[49m\u001b[43m[\u001b[49m\u001b[38;5;241;43m0\u001b[39;49m\u001b[43m]\u001b[49m\u001b[38;5;241;43m.\u001b[39;49m\u001b[43mscrape\u001b[49m\u001b[43m(\u001b[49m\u001b[43mclose_on_complete\u001b[49m\u001b[38;5;241;43m=\u001b[39;49m\u001b[38;5;28;43;01mFalse\u001b[39;49;00m\u001b[43m)\u001b[49m\n\u001b[1;32m      3\u001b[0m \u001b[38;5;28mvars\u001b[39m(_job_listings[\u001b[38;5;241m0\u001b[39m])\n",
      "File \u001b[0;32m~/repos/ds-employment-landscape/.venv/lib/python3.10/site-packages/linkedin_scraper/jobs.py:47\u001b[0m, in \u001b[0;36mJob.scrape\u001b[0;34m(self, close_on_complete)\u001b[0m\n\u001b[1;32m     45\u001b[0m \u001b[38;5;28;01mdef\u001b[39;00m \u001b[38;5;21mscrape\u001b[39m(\u001b[38;5;28mself\u001b[39m, close_on_complete\u001b[38;5;241m=\u001b[39m\u001b[38;5;28;01mTrue\u001b[39;00m):\n\u001b[1;32m     46\u001b[0m     \u001b[38;5;28;01mif\u001b[39;00m \u001b[38;5;28mself\u001b[39m\u001b[38;5;241m.\u001b[39mis_signed_in():\n\u001b[0;32m---> 47\u001b[0m         \u001b[38;5;28;43mself\u001b[39;49m\u001b[38;5;241;43m.\u001b[39;49m\u001b[43mscrape_logged_in\u001b[49m\u001b[43m(\u001b[49m\u001b[43mclose_on_complete\u001b[49m\u001b[38;5;241;43m=\u001b[39;49m\u001b[43mclose_on_complete\u001b[49m\u001b[43m)\u001b[49m\n\u001b[1;32m     48\u001b[0m     \u001b[38;5;28;01melse\u001b[39;00m:\n\u001b[1;32m     49\u001b[0m         \u001b[38;5;28;01mraise\u001b[39;00m \u001b[38;5;28mNotImplemented\u001b[39m(\u001b[38;5;124m\"\u001b[39m\u001b[38;5;124mThis part is not implemented yet\u001b[39m\u001b[38;5;124m\"\u001b[39m)\n",
      "File \u001b[0;32m~/repos/ds-employment-landscape/.venv/lib/python3.10/site-packages/linkedin_scraper/jobs.py:70\u001b[0m, in \u001b[0;36mJob.scrape_logged_in\u001b[0;34m(self, close_on_complete)\u001b[0m\n\u001b[1;32m     68\u001b[0m driver\u001b[38;5;241m.\u001b[39mget(\u001b[38;5;28mself\u001b[39m\u001b[38;5;241m.\u001b[39mlinkedin_url)\n\u001b[1;32m     69\u001b[0m \u001b[38;5;28mself\u001b[39m\u001b[38;5;241m.\u001b[39mfocus()\n\u001b[0;32m---> 70\u001b[0m \u001b[38;5;28mself\u001b[39m\u001b[38;5;241m.\u001b[39mjob_title \u001b[38;5;241m=\u001b[39m \u001b[38;5;28;43mself\u001b[39;49m\u001b[38;5;241;43m.\u001b[39;49m\u001b[43mwait_for_element_to_load\u001b[49m\u001b[43m(\u001b[49m\u001b[43mname\u001b[49m\u001b[38;5;241;43m=\u001b[39;49m\u001b[38;5;124;43m\"\u001b[39;49m\u001b[38;5;124;43mjobs-unified-top-card__job-title\u001b[39;49m\u001b[38;5;124;43m\"\u001b[39;49m\u001b[43m)\u001b[49m\u001b[38;5;241m.\u001b[39mtext\u001b[38;5;241m.\u001b[39mstrip()\n\u001b[1;32m     71\u001b[0m \u001b[38;5;28mself\u001b[39m\u001b[38;5;241m.\u001b[39mcompany \u001b[38;5;241m=\u001b[39m \u001b[38;5;28mself\u001b[39m\u001b[38;5;241m.\u001b[39mwait_for_element_to_load(name\u001b[38;5;241m=\u001b[39m\u001b[38;5;124m\"\u001b[39m\u001b[38;5;124mjobs-unified-top-card__company-name\u001b[39m\u001b[38;5;124m\"\u001b[39m)\u001b[38;5;241m.\u001b[39mtext\u001b[38;5;241m.\u001b[39mstrip()\n\u001b[1;32m     72\u001b[0m \u001b[38;5;28mself\u001b[39m\u001b[38;5;241m.\u001b[39mcompany_linkedin_url \u001b[38;5;241m=\u001b[39m \u001b[38;5;28mself\u001b[39m\u001b[38;5;241m.\u001b[39mwait_for_element_to_load(name\u001b[38;5;241m=\u001b[39m\u001b[38;5;124m\"\u001b[39m\u001b[38;5;124mjobs-unified-top-card__company-name\u001b[39m\u001b[38;5;124m\"\u001b[39m)\u001b[38;5;241m.\u001b[39mfind_element_by_tag_name(\u001b[38;5;124m\"\u001b[39m\u001b[38;5;124ma\u001b[39m\u001b[38;5;124m\"\u001b[39m)\u001b[38;5;241m.\u001b[39mget_attribute(\u001b[38;5;124m\"\u001b[39m\u001b[38;5;124mhref\u001b[39m\u001b[38;5;124m\"\u001b[39m)\n",
      "File \u001b[0;32m~/repos/ds-employment-landscape/.venv/lib/python3.10/site-packages/linkedin_scraper/objects.py:82\u001b[0m, in \u001b[0;36mScraper.wait_for_element_to_load\u001b[0;34m(self, by, name, base)\u001b[0m\n\u001b[1;32m     80\u001b[0m \u001b[38;5;28;01mdef\u001b[39;00m \u001b[38;5;21mwait_for_element_to_load\u001b[39m(\u001b[38;5;28mself\u001b[39m, by\u001b[38;5;241m=\u001b[39mBy\u001b[38;5;241m.\u001b[39mCLASS_NAME, name\u001b[38;5;241m=\u001b[39m\u001b[38;5;124m\"\u001b[39m\u001b[38;5;124mpv-top-card\u001b[39m\u001b[38;5;124m\"\u001b[39m, base\u001b[38;5;241m=\u001b[39m\u001b[38;5;28;01mNone\u001b[39;00m):\n\u001b[1;32m     81\u001b[0m     base \u001b[38;5;241m=\u001b[39m base \u001b[38;5;129;01mor\u001b[39;00m \u001b[38;5;28mself\u001b[39m\u001b[38;5;241m.\u001b[39mdriver\n\u001b[0;32m---> 82\u001b[0m     \u001b[38;5;28;01mreturn\u001b[39;00m \u001b[43mWebDriverWait\u001b[49m\u001b[43m(\u001b[49m\u001b[43mbase\u001b[49m\u001b[43m,\u001b[49m\u001b[43m \u001b[49m\u001b[38;5;28;43mself\u001b[39;49m\u001b[38;5;241;43m.\u001b[39;49m\u001b[43mWAIT_FOR_ELEMENT_TIMEOUT\u001b[49m\u001b[43m)\u001b[49m\u001b[38;5;241;43m.\u001b[39;49m\u001b[43muntil\u001b[49m\u001b[43m(\u001b[49m\n\u001b[1;32m     83\u001b[0m \u001b[43m        \u001b[49m\u001b[43mEC\u001b[49m\u001b[38;5;241;43m.\u001b[39;49m\u001b[43mpresence_of_element_located\u001b[49m\u001b[43m(\u001b[49m\n\u001b[1;32m     84\u001b[0m \u001b[43m            \u001b[49m\u001b[43m(\u001b[49m\n\u001b[1;32m     85\u001b[0m \u001b[43m                \u001b[49m\u001b[43mby\u001b[49m\u001b[43m,\u001b[49m\n\u001b[1;32m     86\u001b[0m \u001b[43m                \u001b[49m\u001b[43mname\u001b[49m\n\u001b[1;32m     87\u001b[0m \u001b[43m            \u001b[49m\u001b[43m)\u001b[49m\n\u001b[1;32m     88\u001b[0m \u001b[43m        \u001b[49m\u001b[43m)\u001b[49m\n\u001b[1;32m     89\u001b[0m \u001b[43m    \u001b[49m\u001b[43m)\u001b[49m\n",
      "File \u001b[0;32m~/repos/ds-employment-landscape/.venv/lib/python3.10/site-packages/selenium/webdriver/support/wait.py:95\u001b[0m, in \u001b[0;36mWebDriverWait.until\u001b[0;34m(self, method, message)\u001b[0m\n\u001b[1;32m     93\u001b[0m     \u001b[38;5;28;01mif\u001b[39;00m time\u001b[38;5;241m.\u001b[39mmonotonic() \u001b[38;5;241m>\u001b[39m end_time:\n\u001b[1;32m     94\u001b[0m         \u001b[38;5;28;01mbreak\u001b[39;00m\n\u001b[0;32m---> 95\u001b[0m \u001b[38;5;28;01mraise\u001b[39;00m TimeoutException(message, screen, stacktrace)\n",
      "\u001b[0;31mTimeoutException\u001b[0m: Message: \nStacktrace:\n#0 0x556cccdef4e3 <unknown>\n#1 0x556cccb1ec76 <unknown>\n#2 0x556cccb5ac96 <unknown>\n#3 0x556cccb5adc1 <unknown>\n#4 0x556cccb947f4 <unknown>\n#5 0x556cccb7a03d <unknown>\n#6 0x556cccb9230e <unknown>\n#7 0x556cccb79de3 <unknown>\n#8 0x556cccb4f2dd <unknown>\n#9 0x556cccb5034e <unknown>\n#10 0x556cccdaf3e4 <unknown>\n#11 0x556cccdb33d7 <unknown>\n#12 0x556cccdbdb20 <unknown>\n#13 0x556cccdb4023 <unknown>\n#14 0x556cccd821aa <unknown>\n#15 0x556cccdd86b8 <unknown>\n#16 0x556cccdd8847 <unknown>\n#17 0x556cccde8243 <unknown>\n#18 0x7f3e74894ac3 <unknown>\n"
     ]
    }
   ],
   "source": [
    "# This doesn't work: Timeout Error\n",
    "# _job_listings[0].scrape(close_on_complete=False)\n",
    "# vars(_job_listings[0])"
   ]
  },
  {
   "cell_type": "code",
   "execution_count": 29,
   "id": "4c5a30c9-b762-4fac-954e-bc63fcd63294",
   "metadata": {},
   "outputs": [],
   "source": [
    "from selenium.webdriver.support.wait import WebDriverWait\n",
    "from selenium.webdriver.common.by import By\n",
    "\n",
    "with open(\"job_page_example.html\", \"w\") as f:\n",
    "    f.write(_job_listings[0].driver.page_source)"
   ]
  },
  {
   "cell_type": "code",
   "execution_count": 36,
   "id": "36980c98-2bf3-42bb-8ad0-b139b4b3ff9e",
   "metadata": {},
   "outputs": [
    {
     "data": {
      "text/plain": [
       "'Data Analyst, Dream Blast'"
      ]
     },
     "execution_count": 36,
     "metadata": {},
     "output_type": "execute_result"
    }
   ],
   "source": [
    "from selenium.webdriver.support.wait import WebDriverWait\n",
    "from selenium.webdriver.common.by import By\n",
    "from selenium.webdriver.support import expected_conditions as EC\n",
    "\n",
    "# job_title\n",
    "WebDriverWait(_job_listings[0].driver, 3).until(\n",
    "    EC.presence_of_element_located(\n",
    "        (By.XPATH,\n",
    "        \"//*[contains(@class, 'jobs-unified-top-card__job-title')]\"\n",
    "        )\n",
    "    )\n",
    ").text.strip()"
   ]
  },
  {
   "cell_type": "code",
   "execution_count": 94,
   "id": "63017752-d3c6-4ca4-b5ed-d5425e6aeef9",
   "metadata": {},
   "outputs": [
    {
     "data": {
      "text/plain": [
       "'Rovio Entertainment Corporation'"
      ]
     },
     "execution_count": 94,
     "metadata": {},
     "output_type": "execute_result"
    }
   ],
   "source": [
    "# company\n",
    "WebDriverWait(_job_listings[0].driver, 3).until(\n",
    "    EC.presence_of_element_located(\n",
    "        (By.XPATH,\n",
    "        \"//*[contains(@class, 'job-details-jobs-unified-top-card__primary-description')]//a[1]\"\n",
    "        )\n",
    "    )\n",
    ").text.strip()"
   ]
  },
  {
   "cell_type": "code",
   "execution_count": 118,
   "id": "1c96bbbe-0a0a-403c-80c8-422eb6a3c382",
   "metadata": {},
   "outputs": [
    {
     "data": {
      "text/plain": [
       "'Rovio Entertainment Corporation · Helsinki, Uusimaa, Finland Reposted  4 days ago  · 232 applicants'"
      ]
     },
     "execution_count": 118,
     "metadata": {},
     "output_type": "execute_result"
    }
   ],
   "source": [
    "# Location\n",
    "WebDriverWait(_job_listings[0].driver, 3).until(\n",
    "    EC.presence_of_element_located(\n",
    "        (By.XPATH,\n",
    "        \"//*[contains(@class, 'job-details-jobs-unified-top-card__primary-description')]//*\"\n",
    "        )\n",
    "    )\n",
    ").text.strip()"
   ]
  },
  {
   "cell_type": "code",
   "execution_count": 130,
   "id": "aefbc41c-ede7-48d9-a752-931281fa4198",
   "metadata": {},
   "outputs": [
    {
     "data": {
      "text/plain": [
       "'Hybrid'"
      ]
     },
     "execution_count": 130,
     "metadata": {},
     "output_type": "execute_result"
    }
   ],
   "source": [
    "# Job type\n",
    "WebDriverWait(_job_listings[0].driver, 3).until(\n",
    "    EC.presence_of_element_located(\n",
    "        (By.XPATH,\n",
    "        \"//*[contains(@class, 'ui-label ui-label--accent-3 text-body-small')]/span\"\n",
    "        )\n",
    "    )\n",
    ").text.strip()"
   ]
  },
  {
   "cell_type": "code",
   "execution_count": 134,
   "id": "f41733e5-7526-4524-96e8-1a2fa66572df",
   "metadata": {},
   "outputs": [
    {
     "data": {
      "text/plain": [
       "'Full-time'"
      ]
     },
     "execution_count": 134,
     "metadata": {},
     "output_type": "execute_result"
    }
   ],
   "source": [
    "# Job type 2\n",
    "WebDriverWait(_job_listings[0].driver, 3).until(\n",
    "    EC.presence_of_element_located(\n",
    "        (By.XPATH,\n",
    "        \"(//*[contains(@class, 'ui-label ui-label--accent-3 text-body-small')])[2]//span\"\n",
    "        )\n",
    "    )\n",
    ").text.strip()"
   ]
  },
  {
   "cell_type": "code",
   "execution_count": 83,
   "id": "8a8efe79-cd84-46e1-b19c-84f56ee773b0",
   "metadata": {},
   "outputs": [
    {
     "data": {
      "text/plain": [
       "'Reposted  4 days ago'"
      ]
     },
     "execution_count": 83,
     "metadata": {},
     "output_type": "execute_result"
    }
   ],
   "source": [
    "# Post Date\n",
    "WebDriverWait(_job_listings[0].driver, 3).until(\n",
    "    EC.presence_of_element_located(\n",
    "        (By.XPATH,\n",
    "        \"//*[contains(@class, 'job-details-jobs-unified-top-card__primary-description')]//span[3]\"\n",
    "        )\n",
    "    )\n",
    ").text.strip()"
   ]
  },
  {
   "cell_type": "code",
   "execution_count": 51,
   "id": "1c8a656d-b8a2-4870-b94a-11f44fc3f064",
   "metadata": {},
   "outputs": [
    {
     "data": {
      "text/plain": [
       "'https://www.linkedin.com/company/rovio/life'"
      ]
     },
     "execution_count": 51,
     "metadata": {},
     "output_type": "execute_result"
    }
   ],
   "source": [
    "# company linkedin url\n",
    "WebDriverWait(_job_listings[0].driver, 3).until(\n",
    "    EC.presence_of_element_located(\n",
    "        (By.XPATH,\n",
    "        \"//*[contains(@class, 'job-details-jobs-unified-top-card__primary-description')]//a\"\n",
    "        )\n",
    "    )\n",
    ").get_attribute(\"href\")"
   ]
  },
  {
   "cell_type": "code",
   "execution_count": 52,
   "id": "fab300ec-062b-468e-992f-24323b272303",
   "metadata": {},
   "outputs": [
    {
     "data": {
      "text/plain": [
       "'About the job\\nAt Rovio you will get to work with multiple groundbreaking IP’s including one of the most famous game IP’s in the world: Angry Birds! We craft joy with player-focused gaming experiences that last for decades. In order to do that, we know that people need to bring their own joy to what we do. That’s why we value work-life balance, say no to crunch culture, and welcome people from all walks of life to join the flock. Today, we are a proud team of 500+ caring and talented professionals representing over 50 different nations.\\n\\nWe trust our teams to work autonomously by providing them the right tools and level of responsibility. We believe in our teams to remain creative and to keep learning – as well as ensuring everyone has opportunities for personal growth.\\n\\nData and Analytics is the craft that is behind all the critical decisions here at Rovio and as a Game Data Analyst you will be an integral part of a cross functional Game team working closely with Product and Designers to help us grow our games while keeping a strong focus on player satisfaction . In this role you will be joining our successful bubble-popping Angry Birds Dream Blast game loved by millions of players.\\n\\nBeing a Data Analyst in Dream Blast entails being a part of a big and data-experienced team. We continuously run experiments and look for new ideas through players behaviour analysis aiming to improve performance of the game and audience satisfaction. The Dream Blast team is located across Finland and Spain and works in a hybrid model (2 days per week onsite).\\n\\n\\n\\n\\n\\n\\n\\n\\n\\n\\n\\n\\n\\n\\n\\nwith our TA Partner to understand your past experiences and motivation\\n\\nAfter the successful screen call you will receive a tech assignment to complete at your own pace that will help us understand your analytical skills better.\\n\\n: we will ask you to explore the game you are aiming to work on before the interview and bring up your suggestions to be discussed in the interview with the analytics team leads from our live games. It will also be a chance for you to learn more about the role and get feedback on your test.\\n\\n: you will meet the Dream Blast game team to discuss your fit into the broader context of the studio and learn more about how the team works day to day. You can also expect an additional conversation with your future team lead or close colleagues, if we cannot fit it into the existing schedule.\\n\\nIf you want to join our flock please apply with your CV in English. We look forward to meeting you!\\nSee more'"
      ]
     },
     "execution_count": 52,
     "metadata": {},
     "output_type": "execute_result"
    }
   ],
   "source": [
    "# Job description\n",
    "job_description_elem = WebDriverWait(_job_listings[0].driver, 3).until(\n",
    "    EC.presence_of_element_located(\n",
    "        (By.XPATH,\n",
    "        \"//*[contains(@class, 'jobs-description')]\"\n",
    "        )\n",
    "    )\n",
    ")\n",
    "\n",
    "job_description_elem.text.strip()"
   ]
  },
  {
   "cell_type": "code",
   "execution_count": 69,
   "id": "513f6811-6567-44e1-ab9c-9757241568ed",
   "metadata": {},
   "outputs": [
    {
     "data": {
      "text/plain": [
       "'Analytical Skills, Analytics, Data Analysis, English, Product Management, Python (Programming Language), and SQL'"
      ]
     },
     "execution_count": 69,
     "metadata": {},
     "output_type": "execute_result"
    }
   ],
   "source": [
    "# First set of skills added by the job poster\n",
    "WebDriverWait(_job_listings[0].driver, 3).until(\n",
    "    EC.presence_of_element_located(\n",
    "        (By.XPATH,\n",
    "        \"//*[contains(@class, 'job-details-how-you-match__skills-item')][1]//a\"\n",
    "        )\n",
    "    )\n",
    ").text"
   ]
  },
  {
   "cell_type": "code",
   "execution_count": 68,
   "id": "44672dfa-62a1-4d98-b34e-09a19cc0ad5c",
   "metadata": {},
   "outputs": [
    {
     "data": {
      "text/plain": [
       "'Apache Spark, Dashboards, and Team Leadership'"
      ]
     },
     "execution_count": 68,
     "metadata": {},
     "output_type": "execute_result"
    }
   ],
   "source": [
    "# 2nd set of skills added by the job poster\n",
    "WebDriverWait(_job_listings[0].driver, 3).until(\n",
    "    EC.presence_of_element_located(\n",
    "        (By.XPATH,\n",
    "        \"//*[contains(@class, 'job-details-how-you-match__skills-item')][2]//a\"\n",
    "        )\n",
    "    )\n",
    ").text"
   ]
  },
  {
   "cell_type": "code",
   "execution_count": 59,
   "id": "581b2ce0-7d74-4c3e-b7e6-230fa180e878",
   "metadata": {},
   "outputs": [
    {
     "data": {
      "text/plain": [
       "''"
      ]
     },
     "execution_count": 59,
     "metadata": {},
     "output_type": "execute_result"
    }
   ],
   "source": [
    "# Salary range and benefits\n",
    "WebDriverWait(_job_listings[0].driver, 3).until(\n",
    "    EC.presence_of_element_located(\n",
    "        (By.XPATH,\n",
    "        \"//*[contains(@class, 'salary-main-rail-card')]\"\n",
    "        )\n",
    "    )\n",
    ").text.strip()"
   ]
  },
  {
   "cell_type": "markdown",
   "id": "2e46ce1a-a693-4928-af1c-45583707041a",
   "metadata": {},
   "source": [
    "## Overwrite the crawler methods to debug"
   ]
  },
  {
   "cell_type": "code",
   "execution_count": 1,
   "id": "457ef808-5c81-41b3-bb06-535d3babbab1",
   "metadata": {},
   "outputs": [],
   "source": [
    "import logging\n",
    "from linkedin_scraper import Job\n",
    "\n",
    "from selenium.common.exceptions import TimeoutException\n",
    "from selenium.webdriver.common.by import By\n",
    "from selenium.webdriver.support.wait import WebDriverWait\n",
    "from selenium.webdriver.support import expected_conditions as EC\n",
    "\n",
    "logging.basicConfig(level=logging.INFO)\n",
    "logger = logging.getLogger(__name__)\n",
    "\n",
    "class _Job(Job):\n",
    "    def __init__(self, **kwargs):\n",
    "       self.job_title = \"\"\n",
    "       self.required_skills = \"\"\n",
    "       self.job_type_1 = \"\"\n",
    "       self.job_type_2 = \"\"\n",
    " \n",
    "       super().__init__(**kwargs)\n",
    "    \n",
    "    def scrape_logged_in(self, close_on_complete=True):\n",
    "        driver = self.driver\n",
    "        \n",
    "        driver.get(self.linkedin_url)\n",
    "        self.focus()\n",
    "        self.job_title = self.wait_for_element_to_load(by=By.XPATH, name=\"//*[contains(@class, 'jobs-unified-top-card__job-title')]\").text.strip()\n",
    "        self.company = self.wait_for_element_to_load(by=By.XPATH, name=\"//*[contains(@class, 'job-details-jobs-unified-top-card__primary-description')]//a[1]\").text.strip()\n",
    "        self.company_linkedin_url = self.wait_for_element_to_load(by=By.XPATH, name=\"//*[contains(@class, 'job-details-jobs-unified-top-card__primary-description')]//a\").get_attribute(\"href\")\n",
    "        self.location = self.wait_for_element_to_load(by=By.XPATH, name=\"//*[contains(@class, 'job-details-jobs-unified-top-card__primary-description')]//*\").text.strip()\n",
    "        self.posted_date = self.wait_for_element_to_load(by=By.XPATH, name=\"//*[contains(@class, 'job-details-jobs-unified-top-card__primary-description')]//span[3]\").text.strip()\n",
    "        self.job_type_1 = self.wait_for_element_to_load(by=By.XPATH, name=\"//*[contains(@class, 'ui-label ui-label--accent-3 text-body-small')]/span\").text.strip()\n",
    "        self.job_description = self.wait_for_element_to_load(by=By.XPATH, name=\"//*[contains(@class, 'jobs-description')]\").text.strip()\n",
    "        \n",
    "        try:\n",
    "            self.required_skills = self.wait_for_element_to_load(by=By.XPATH, name=\"//*[contains(@class, 'job-details-how-you-match__skills-item')][1]//a\").text.strip()\n",
    "        except TimeoutException as e:\n",
    "            logger.error(str(e))\n",
    "\n",
    "        try:\n",
    "            self.required_skills += self.wait_for_element_to_load(by=By.XPATH, name=\"//*[contains(@class, 'job-details-how-you-match__skills-item')][2]//a\").text.strip()\n",
    "        except TimeoutException as e:\n",
    "            logger.error(str(e))\n",
    "\n",
    "        try:\n",
    "            self.job_type_2 = self.wait_for_element_to_load(by=By.XPATH, name=\"(//*[contains(@class, 'ui-label ui-label--accent-3 text-body-small')])[2]/span\").text.strip()\n",
    "        except TimeoutException:\n",
    "            self.job_type_2 = \"\"\n",
    "            \n",
    "        try:\n",
    "            self.applicant_count = self.wait_for_element_to_load(by=By.XPATH, name=\"jobs-unified-top-card__applicant-count\").text.strip()\n",
    "        except TimeoutException:\n",
    "            self.applicant_count = 0\n",
    "        \n",
    "        try:\n",
    "            self.benefits = self.wait_for_element_to_load(by=By.XPATH, name=\"//*[contains(@class, 'salary-main-rail-card')]\").text.strip()\n",
    "        except TimeoutException:\n",
    "            self.benefits = \"\"\n",
    "\n",
    "        if close_on_complete:\n",
    "            driver.close()"
   ]
  },
  {
   "cell_type": "code",
   "execution_count": 2,
   "id": "0c07dad8-248e-4d4d-ad43-e35f92fff5dc",
   "metadata": {},
   "outputs": [],
   "source": [
    "from selenium import webdriver\n",
    "from selenium.webdriver.chrome.options import Options\n",
    "from linkedin_scraper import actions\n",
    "\n",
    "import os\n",
    "\n",
    "def set_chrome_options() -> Options:\n",
    "    \"\"\"Sets chrome options for Selenium.\n",
    "    Chrome options for headless browser is enabled.\n",
    "    \"\"\"\n",
    "    chrome_options = Options()\n",
    "    chrome_options.add_argument(\"--headless\")\n",
    "    chrome_options.add_argument(\"--no-sandbox\")\n",
    "    chrome_options.add_argument(\"--disable-dev-shm-usage\")\n",
    "    chrome_prefs = {}\n",
    "    chrome_options.experimental_options[\"prefs\"] = chrome_prefs\n",
    "    chrome_prefs[\"profile.default_content_settings\"] = {\"images\": 2}\n",
    "    return chrome_options\n",
    "\n",
    "def _scrape_job(job_link):\n",
    "    driver = webdriver.Chrome(options=set_chrome_options())\n",
    "    actions.login(driver, os.environ[\"EMAIL\"], os.environ[\"PWORD\"]) # if email and password isnt given, it'll prompt in terminal\n",
    "    job = _Job(linkedin_url=job_link, driver=driver, close_on_complete=False, scrape=True)\n",
    "    return job\n",
    "\n",
    "_test_job = _scrape_job('https://www.linkedin.com/jobs/view/3714372433/?eBP=CwEAAAGLTdUQpGQF09-CdoWc4cusOWm2TWIvEtSvECM1xlqP_afKMjBs7FBkDqUaztu-25__cZWKZpbOxsDNCwt_3gOFrxADsg7mdhXdkC3RikGDvmr4yZClqua33seWZQr_8ZGev4iaDe2a8Wv4G3XUeGX5C_q61BrXKDLP5ZJhyqeux_H6TXFQNw2Gk5onS3v7UGb1zOaYe7M533VBpmAh66p9dgFhnwfeXLpRTL_du8_7zLg4DrEKKkYvurw4g5keHYDK9sZnnX_VkxyMonT0oOXESInx16-pjjx367szmw-vLZmXhWiXz7wPopucJddZT4eKiy9zlKlpIspAWb35fVjSaUDWeB-TBaDgYtrrgg_uAklhZVfIOpE-cNTOYmkA5pgPv9CGxP1mNJxq4VXmeurSYlVcl6U&refId=brZtKrySfWZiFfEufTSwbw%3D%3D&trackingId=oxvrW%2B0EmnW4w51kDgqkug%3D%3D&trk=flagship3_search_srp_jobs')"
   ]
  },
  {
   "cell_type": "code",
   "execution_count": 3,
   "id": "bfe2e7f8-6bc5-463f-89d3-4bab419bc2f5",
   "metadata": {},
   "outputs": [
    {
     "data": {
      "text/plain": [
       "{'job_title': 'Data Analyst, Dream Blast',\n",
       " 'required_skills': 'Analytical Skills, Analytics, Data Analysis, English, Product Management, Python (Programming Language), and SQLApache Spark, Dashboards, and Team Leadership',\n",
       " 'job_type_1': 'Hybrid',\n",
       " 'job_type_2': 'Full-time',\n",
       " 'driver': <selenium.webdriver.chrome.webdriver.WebDriver (session=\"5912e2b35080dc2c19243c3bb1906f2d\")>,\n",
       " 'linkedin_url': 'https://www.linkedin.com/jobs/view/3714372433/?eBP=CwEAAAGLTdUQpGQF09-CdoWc4cusOWm2TWIvEtSvECM1xlqP_afKMjBs7FBkDqUaztu-25__cZWKZpbOxsDNCwt_3gOFrxADsg7mdhXdkC3RikGDvmr4yZClqua33seWZQr_8ZGev4iaDe2a8Wv4G3XUeGX5C_q61BrXKDLP5ZJhyqeux_H6TXFQNw2Gk5onS3v7UGb1zOaYe7M533VBpmAh66p9dgFhnwfeXLpRTL_du8_7zLg4DrEKKkYvurw4g5keHYDK9sZnnX_VkxyMonT0oOXESInx16-pjjx367szmw-vLZmXhWiXz7wPopucJddZT4eKiy9zlKlpIspAWb35fVjSaUDWeB-TBaDgYtrrgg_uAklhZVfIOpE-cNTOYmkA5pgPv9CGxP1mNJxq4VXmeurSYlVcl6U&refId=brZtKrySfWZiFfEufTSwbw%3D%3D&trackingId=oxvrW%2B0EmnW4w51kDgqkug%3D%3D&trk=flagship3_search_srp_jobs',\n",
       " 'company': 'Rovio Entertainment Corporation',\n",
       " 'company_linkedin_url': 'https://www.linkedin.com/company/rovio/life',\n",
       " 'location': 'Rovio Entertainment Corporation · Helsinki, Uusimaa, Finland Reposted  6 days ago  · 234 applicants',\n",
       " 'posted_date': 'Reposted  6 days ago',\n",
       " 'applicant_count': 0,\n",
       " 'job_description': 'About the job\\nAt Rovio you will get to work with multiple groundbreaking IP’s including one of the most famous game IP’s in the world: Angry Birds! We craft joy with player-focused gaming experiences that last for decades. In order to do that, we know that people need to bring their own joy to what we do. That’s why we value work-life balance, say no to crunch culture, and welcome people from all walks of life to join the flock. Today, we are a proud team of 500+ caring and talented professionals representing over 50 different nations.\\n\\nWe trust our teams to work autonomously by providing them the right tools and level of responsibility. We believe in our teams to remain creative and to keep learning – as well as ensuring everyone has opportunities for personal growth.\\n\\nData and Analytics is the craft that is behind all the critical decisions here at Rovio and as a Game Data Analyst you will be an integral part of a cross functional Game team working closely with Product and Designers to help us grow our games while keeping a strong focus on player satisfaction . In this role you will be joining our successful bubble-popping Angry Birds Dream Blast game loved by millions of players.\\n\\nBeing a Data Analyst in Dream Blast entails being a part of a big and data-experienced team. We continuously run experiments and look for new ideas through players behaviour analysis aiming to improve performance of the game and audience satisfaction. The Dream Blast team is located across Finland and Spain and works in a hybrid model (2 days per week onsite).\\n\\n\\n\\n\\n\\n\\n\\n\\n\\n\\n\\n\\n\\n\\n\\nwith our TA Partner to understand your past experiences and motivation\\n\\nAfter the successful screen call you will receive a tech assignment to complete at your own pace that will help us understand your analytical skills better.\\n\\n: we will ask you to explore the game you are aiming to work on before the interview and bring up your suggestions to be discussed in the interview with the analytics team leads from our live games. It will also be a chance for you to learn more about the role and get feedback on your test.\\n\\n: you will meet the Dream Blast game team to discuss your fit into the broader context of the studio and learn more about how the team works day to day. You can also expect an additional conversation with your future team lead or close colleagues, if we cannot fit it into the existing schedule.\\n\\nIf you want to join our flock please apply with your CV in English. We look forward to meeting you!\\nSee more',\n",
       " 'benefits': ''}"
      ]
     },
     "execution_count": 3,
     "metadata": {},
     "output_type": "execute_result"
    }
   ],
   "source": [
    "vars(_test_job)"
   ]
  },
  {
   "cell_type": "markdown",
   "id": "9d5176ea-37a7-4445-8f33-124ec1b4d650",
   "metadata": {},
   "source": [
    "## Debug JobSearch to make it scrape new pages"
   ]
  },
  {
   "cell_type": "code",
   "execution_count": 5,
   "id": "bc91b6f1-321c-44e6-bfaa-2849e524d59d",
   "metadata": {},
   "outputs": [
    {
     "name": "stdout",
     "output_type": "stream",
     "text": [
      "... Logged in.\n"
     ]
    }
   ],
   "source": [
    "from linkedin_scraper import JobSearch\n",
    "\n",
    "driver = webdriver.Chrome(options=set_chrome_options())\n",
    "actions.login(driver, os.environ[\"EMAIL\"], os.environ[\"PWORD\"]) # if email and password isnt given, it'll prompt in terminal\n",
    "print(\"... Logged in.\")\n",
    "job_search = JobSearch(driver=driver, close_on_complete=False, scrape=False)"
   ]
  },
  {
   "cell_type": "code",
   "execution_count": 9,
   "id": "62d3bcdb-95b7-42c8-b2b4-3d52e8f5394f",
   "metadata": {},
   "outputs": [],
   "source": [
    "import urllib\n",
    "url = os.path.join(job_search.base_url, \"search\") + f\"?keywords={urllib.parse.quote('data')}&refresh=true\""
   ]
  },
  {
   "cell_type": "code",
   "execution_count": 10,
   "id": "2057171d-e14e-4496-98a3-b0739e6eaffb",
   "metadata": {},
   "outputs": [],
   "source": [
    "job_search.driver.get(url)"
   ]
  },
  {
   "cell_type": "code",
   "execution_count": 11,
   "id": "f11c9488-c25b-4f95-a22d-55566e1d4b81",
   "metadata": {},
   "outputs": [
    {
     "data": {
      "text/plain": [
       "'https://www.linkedin.com/jobs/search/?currentJobId=3717037977&keywords=data&refresh=true'"
      ]
     },
     "execution_count": 11,
     "metadata": {},
     "output_type": "execute_result"
    }
   ],
   "source": [
    "# Final redirection\n",
    "job_search.driver.current_url"
   ]
  },
  {
   "cell_type": "code",
   "execution_count": 7,
   "id": "2045d786-cfb8-4666-8e97-9097dc4b2934",
   "metadata": {},
   "outputs": [],
   "source": [
    "from linkedin_scraper import JobSearch, Job, actions\n",
    "from typing import List\n",
    "from selenium import webdriver\n",
    "from selenium.webdriver.chrome.options import Options\n",
    "\n",
    "import os\n",
    "from pprint import pprint\n",
    "import urllib\n",
    "from time import sleep\n",
    "\n",
    "def set_chrome_options() -> Options:\n",
    "    \"\"\"Sets chrome options for Selenium.\n",
    "    Chrome options for headless browser is enabled.\n",
    "    \"\"\"\n",
    "    chrome_options = Options()\n",
    "    chrome_options.add_argument(\"--headless\")\n",
    "    chrome_options.add_argument(\"--no-sandbox\")\n",
    "    chrome_options.add_argument(\"--disable-dev-shm-usage\")\n",
    "    chrome_prefs = {}\n",
    "    chrome_options.experimental_options[\"prefs\"] = chrome_prefs\n",
    "    chrome_prefs[\"profile.default_content_settings\"] = {\"images\": 2}\n",
    "    return chrome_options\n",
    "\n",
    "class _JobSearch(JobSearch):\n",
    "    def __init__(self, final_url=None, **kwargs):\n",
    "        self.final_url = final_url\n",
    "        self.current_url = None\n",
    "        super().__init__(**kwargs)\n",
    "    \n",
    "    def search(self, search_term: str, page_n) -> List[Job]:\n",
    "        if self.final_url is None:\n",
    "            self.current_url = os.path.join(self.base_url, \"search\") + f\"?keywords={urllib.parse.quote(search_term)}&refresh=true\"\n",
    "            self.driver.get(self.current_url)\n",
    "\n",
    "            # Get redirection URL\n",
    "            self.final_url = self.driver.current_url\n",
    "        else:\n",
    "            self.current_url = os.path.join(self.final_url, f\"&start={25*(page_n-1)}\")\n",
    "            self.driver.get(self.current_url)\n",
    "        \n",
    "        self.scroll_to_bottom()\n",
    "        self.focus()\n",
    "        sleep(self.WAIT_FOR_ELEMENT_TIMEOUT)\n",
    "\n",
    "        job_listing_class_name = \"jobs-search-results-list\"\n",
    "        job_listing = self.wait_for_element_to_load(name=job_listing_class_name)\n",
    "\n",
    "        self.scroll_class_name_element_to_page_percent(job_listing_class_name, 0.3)\n",
    "        self.focus()\n",
    "        sleep(self.WAIT_FOR_ELEMENT_TIMEOUT)\n",
    "\n",
    "        self.scroll_class_name_element_to_page_percent(job_listing_class_name, 0.6)\n",
    "        self.focus()\n",
    "        sleep(self.WAIT_FOR_ELEMENT_TIMEOUT)\n",
    "\n",
    "        self.scroll_class_name_element_to_page_percent(job_listing_class_name, 1)\n",
    "        self.focus()\n",
    "        sleep(self.WAIT_FOR_ELEMENT_TIMEOUT)\n",
    "\n",
    "        job_results = []\n",
    "        for job_card in self.wait_for_all_elements_to_load(name=\"job-card-list\", base=job_listing):\n",
    "            job = self.scrape_job_card(job_card)\n",
    "            job_results.append(job)\n",
    "        return job_results\n",
    "\n",
    "def _scrape_job_search(final_url, keyword, page_n):\n",
    "    driver = webdriver.Chrome(options=set_chrome_options())\n",
    "    actions.login(driver, os.environ[\"EMAIL\"], os.environ[\"PWORD\"]) # if email and password isnt given, it'll prompt in terminal\n",
    "    print(\"... Logged in.\")\n",
    "    job_search = _JobSearch(driver=driver, close_on_complete=False, scrape=False)\n",
    "\n",
    "    job_listings = job_search.search(keyword, page_n) # returns the list of `Job` from the first page\n",
    "    return job_search, job_listings"
   ]
  },
  {
   "cell_type": "code",
   "execution_count": 8,
   "id": "3be581dc-3311-47ad-8680-b8f6940f9810",
   "metadata": {},
   "outputs": [
    {
     "name": "stdout",
     "output_type": "stream",
     "text": [
      "... Logged in.\n"
     ]
    },
    {
     "data": {
      "text/plain": [
       "[<Job Legal & Compliance Officer Sambla>,\n",
       " <Job Senior Game Analyst Next Games, A Netflix Game Studio>,\n",
       " <Job Data Analyst, Merge Mansion Metacore>,\n",
       " <Job Data Scientist, Data Platform & AI OP Financial Group>,\n",
       " <Job Data Science - Machine Learning Engineer Wolt>,\n",
       " <Job Data Engineer The Hub>,\n",
       " <Job Senior Threat Intelligence Officer, Nordic Nordea>,\n",
       " <Job RWE Scientist / Epidemiologist MedEngine>,\n",
       " <Job Data Platform Engineer COR Group Oy>,\n",
       " <Job Data Engineer Sievo>,\n",
       " <Job Senior Data Analyst, Ads Rovio Entertainment Corporation>,\n",
       " <Job Data & AI Fin Informatica MDM Accenture Nordics>,\n",
       " <Job Senior Legal and Privacy Counsel, Veho Group Veho Oy Ab>,\n",
       " <Job Data Engineer The Hub>]"
      ]
     },
     "execution_count": 8,
     "metadata": {},
     "output_type": "execute_result"
    }
   ],
   "source": [
    "_test_job_search, _test_listings = _scrape_job_search(\"data\", page_n=1)\n",
    "_test_listings"
   ]
  },
  {
   "cell_type": "code",
   "execution_count": 13,
   "id": "39e6bd1d-56ff-4394-8e87-d0f630ad3359",
   "metadata": {},
   "outputs": [
    {
     "data": {
      "text/plain": [
       "[<Job Data Scientist / Senior Data Scientist Basware>,\n",
       " <Job Data Engineer - Tietoevry Care Data and Analytics Tietoevry>,\n",
       " <Job Data Scientist MedEngine>,\n",
       " <Job Data Engineer - Tietoevry Care Data and Analytics Tietoevry>,\n",
       " <Job Data Platform Engineer Scandit>,\n",
       " <Job Data Engineer (Level Up) Loihde Advance>,\n",
       " <Job ETL Specialist Gazelle Global>,\n",
       " <Job Data Engineer - Tietoevry Care Data and Analytics Tietoevry>,\n",
       " <Job Data Engineer - Tietoevry Care Data and Analytics Tietoevry>,\n",
       " <Job IT-asiantuntija Anfra Oy>,\n",
       " <Job (Senior) Data Engineer - Tietoevry Tech Services Tietoevry>,\n",
       " <Job Machine Learning Engineer - MLOps Wolt>,\n",
       " <Job Data Engineer Suomen Palloliitto - Football Association of Finland>,\n",
       " <Job Quantitative Risk Analyst Nordea>,\n",
       " <Job Cloud & Enterprise Architect Samlink – A Kyndryl Company>,\n",
       " <Job Data Engineer Epical>]"
      ]
     },
     "execution_count": 13,
     "metadata": {},
     "output_type": "execute_result"
    }
   ],
   "source": [
    "_test_listings_2 = _test_job_search.search(\"data\", page_n=2)\n",
    "_test_listings_2"
   ]
  },
  {
   "cell_type": "code",
   "execution_count": null,
   "id": "23955bdf-cf7b-4a0f-aee7-afdc79b3621a",
   "metadata": {},
   "outputs": [],
   "source": []
  }
 ],
 "metadata": {
  "kernelspec": {
   "display_name": ".venv",
   "language": "python",
   "name": ".venv"
  },
  "language_info": {
   "codemirror_mode": {
    "name": "ipython",
    "version": 3
   },
   "file_extension": ".py",
   "mimetype": "text/x-python",
   "name": "python",
   "nbconvert_exporter": "python",
   "pygments_lexer": "ipython3",
   "version": "3.10.12"
  }
 },
 "nbformat": 4,
 "nbformat_minor": 5
}
