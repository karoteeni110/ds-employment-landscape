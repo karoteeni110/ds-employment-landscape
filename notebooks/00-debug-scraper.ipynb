{
 "cells": [
  {
   "cell_type": "markdown",
   "id": "76f2d36d-f3e8-4424-934a-c2bc8cb11089",
   "metadata": {},
   "source": [
    "# Scrape Linkedin Data\n",
    "\n",
    "Crawling Linkedin is against the user agreement of Linkedin! This is used for educational purpose only."
   ]
  },
  {
   "cell_type": "code",
   "execution_count": 1,
   "id": "59e27530-b200-458c-b122-b467c762e337",
   "metadata": {},
   "outputs": [
    {
     "name": "stdout",
     "output_type": "stream",
     "text": [
      "linkedin-scraper==2.11.2\n"
     ]
    }
   ],
   "source": [
    "# Make sure we have installed the dependency\n",
    "! pip freeze | grep linkedin"
   ]
  },
  {
   "cell_type": "code",
   "execution_count": 2,
   "id": "68304544-289a-444a-8b2f-945b8945e1b3",
   "metadata": {},
   "outputs": [
    {
     "name": "stdout",
     "output_type": "stream",
     "text": [
      "Google Chrome 114.0.5735.90 \n"
     ]
    }
   ],
   "source": [
    "! google-chrome-stable --version"
   ]
  },
  {
   "cell_type": "code",
   "execution_count": 3,
   "id": "4159358e-81d6-49a8-b523-caf7c1c3cc0c",
   "metadata": {},
   "outputs": [],
   "source": [
    "from linkedin_scraper import JobSearch, Job, actions\n",
    "from selenium import webdriver\n",
    "from selenium.webdriver.chrome.options import Options\n",
    "\n",
    "import os\n",
    "from pprint import pprint\n",
    "\n",
    "def set_chrome_options() -> Options:\n",
    "    \"\"\"Sets chrome options for Selenium.\n",
    "    Chrome options for headless browser is enabled.\n",
    "    \"\"\"\n",
    "    chrome_options = Options()\n",
    "    chrome_options.add_argument(\"--headless\")\n",
    "    chrome_options.add_argument(\"--no-sandbox\")\n",
    "    chrome_options.add_argument(\"--disable-dev-shm-usage\")\n",
    "    chrome_prefs = {}\n",
    "    chrome_options.experimental_options[\"prefs\"] = chrome_prefs\n",
    "    chrome_prefs[\"profile.default_content_settings\"] = {\"images\": 2}\n",
    "    return chrome_options\n",
    "\n",
    "def scrape_job_search(keyword):\n",
    "    driver = webdriver.Chrome(options=set_chrome_options())\n",
    "    actions.login(driver, os.environ[\"EMAIL\"], os.environ[\"PWORD\"]) # if email and password isnt given, it'll prompt in terminal\n",
    "    print(\"... Logged in.\")\n",
    "    job_search = JobSearch(driver=driver, close_on_complete=False, scrape=False)\n",
    "\n",
    "    job_listings = job_search.search(keyword) # returns the list of `Job` from the first page\n",
    "    return job_listings\n",
    "\n",
    "def scrape_job(job_link):\n",
    "    driver = webdriver.Chrome(options=set_chrome_options())\n",
    "    actions.login(driver, os.environ[\"EMAIL\"], os.environ[\"PWORD\"]) # if email and password isnt given, it'll prompt in terminal\n",
    "    job = Job(job_link, driver=driver, close_on_complete=False)\n",
    "    return job"
   ]
  },
  {
   "cell_type": "markdown",
   "id": "cec0e027-d9a3-4fa0-945c-be57316d179a",
   "metadata": {},
   "source": [
    "## 2. Crawl job listings"
   ]
  },
  {
   "cell_type": "markdown",
   "id": "949c424f-af0d-4d38-b2ce-25c105e51473",
   "metadata": {},
   "source": [
    "### Test run"
   ]
  },
  {
   "cell_type": "code",
   "execution_count": 25,
   "id": "247c825d-ea38-46f8-9b0c-e6eca26d1c83",
   "metadata": {},
   "outputs": [
    {
     "data": {
      "text/plain": [
       "[<Job Senior Data Analyst, Ads Rovio Entertainment Corporation>,\n",
       " <Job Senior Game Analyst Next Games, A Netflix Game Studio>,\n",
       " <Job Azure Data Architect Cloud1 Oy>,\n",
       " <Job Data Architect Nortal>,\n",
       " <Job Data Science - Machine Learning Engineer Wolt>,\n",
       " <Job Data Engineer The Hub>,\n",
       " <Job Machine learning expert Verso Vision>,\n",
       " <Job Data Scientist / Senior Data Scientist Basware>,\n",
       " <Job Data Engineer Schibsted Finland>,\n",
       " <Job Data Scientist, Pohjola Vakuutuksen analytiikka, Helsinki OP Financial Group>,\n",
       " <Job AI Engineer Academy - Finland Avanade>,\n",
       " <Job Cloud Data Engineer Sweco>,\n",
       " <Job Data Scientist, Pohjola Insurance Analytics, Helsinki OP Financial Group>,\n",
       " <Job AI Data Engineer Greenstep>]"
      ]
     },
     "execution_count": 25,
     "metadata": {},
     "output_type": "execute_result"
    }
   ],
   "source": [
    "_job_listings = scrape_job_search(\"data\")\n",
    "_job_listings"
   ]
  },
  {
   "cell_type": "code",
   "execution_count": 20,
   "id": "ed88f474-fffd-459b-8088-a1d3bb16ca72",
   "metadata": {},
   "outputs": [
    {
     "data": {
      "text/plain": [
       "{'driver': <selenium.webdriver.chrome.webdriver.WebDriver (session=\"b22d22debbaefb1f4feed3e1aa195604\")>,\n",
       " 'linkedin_url': 'https://www.linkedin.com/jobs/view/3717037977/?eBP=CwEAAAGLw9ALyc5DCqJDfvQR9Je-pv7uBp7zkqbMf7DZ9IlglaBTKuhEqNapgn6XA8-_69gkbrNgR3yU9kJe4erJhOwwhX7KBGfbkAoz2F3QIx6A1z2tlyTTMw2xSvlqGYE84bcM9rNgMTcIF-Q1qwwCWognBYgiF2lklVGg823k6sa_7-p0nNn0VeEWf8i7jzfM3L9DaoGN-ZF_G5w2b4Osq-h6IUkL8xmQXyMq_l9w5VrcfWG1WCkDytG9oQEhij3oLgMTI7Wief7uq95XNbbFzfqH1x-Kb1VUM_RtDLsmqWAFkwqnQV2-m0fdyTK4pPhAhIICvznEP7CUSAM7OJ78bF3ilpsrzk53u4NWpjqEca-LeWyNssq9dDPBCVRFy5gDlVROB3njzZKMEFXOCkiT2fmGsMN3zJFaHg&refId=bkXKrgYl%2FzIWkBcDYuyykw%3D%3D&trackingId=Oi%2F2zJY8cXpPQGa6xWnAhQ%3D%3D&trk=flagship3_search_srp_jobs',\n",
       " 'job_title': 'Senior Game Analyst',\n",
       " 'company': 'Next Games, A Netflix Game Studio',\n",
       " 'company_linkedin_url': None,\n",
       " 'location': 'Helsinki, Uusimaa, Finland (Hybrid)',\n",
       " 'posted_date': None,\n",
       " 'applicant_count': None,\n",
       " 'job_description': None,\n",
       " 'benefits': None}"
      ]
     },
     "execution_count": 20,
     "metadata": {},
     "output_type": "execute_result"
    }
   ],
   "source": [
    "vars(_job_listings[1])"
   ]
  },
  {
   "cell_type": "code",
   "execution_count": 29,
   "id": "2ccd1623-447e-4386-ae65-efb94c63acba",
   "metadata": {},
   "outputs": [],
   "source": [
    "_job_listings[0].WAIT_FOR_ELEMENT_TIMEOUT = 30"
   ]
  },
  {
   "cell_type": "code",
   "execution_count": 30,
   "id": "bc7a23c1-a529-4f41-a78f-eb0c0b60f56a",
   "metadata": {},
   "outputs": [],
   "source": [
    "# This doesn't work: Timeout Error\n",
    "# _job_listings[0].scrape(close_on_complete=False)\n",
    "# vars(_job_listings[0])"
   ]
  },
  {
   "cell_type": "code",
   "execution_count": 8,
   "id": "4c5a30c9-b762-4fac-954e-bc63fcd63294",
   "metadata": {},
   "outputs": [],
   "source": [
    "# Save the crawled webpage\n",
    "from selenium.webdriver.support.wait import WebDriverWait\n",
    "from selenium.webdriver.common.by import By\n",
    "\n",
    "# with open(\"job_page_example.html\", \"w\") as f:\n",
    "#     f.write(_job_listings[0].driver.page_source)"
   ]
  },
  {
   "cell_type": "code",
   "execution_count": 17,
   "id": "36980c98-2bf3-42bb-8ad0-b139b4b3ff9e",
   "metadata": {},
   "outputs": [
    {
     "data": {
      "text/plain": [
       "'Senior Data Analyst, Ads'"
      ]
     },
     "execution_count": 17,
     "metadata": {},
     "output_type": "execute_result"
    }
   ],
   "source": [
    "from selenium.webdriver.support.wait import WebDriverWait\n",
    "from selenium.webdriver.common.by import By\n",
    "from selenium.webdriver.support import expected_conditions as EC\n",
    "\n",
    "# job_title\n",
    "WebDriverWait(_job_listings[1].driver, 3).until(\n",
    "    EC.presence_of_element_located(\n",
    "        (By.XPATH,\n",
    "        \"//*[contains(@class, 'jobs-unified-top-card__job-title')]\"\n",
    "        )\n",
    "    )\n",
    ").text.strip()"
   ]
  },
  {
   "cell_type": "code",
   "execution_count": 18,
   "id": "63017752-d3c6-4ca4-b5ed-d5425e6aeef9",
   "metadata": {},
   "outputs": [
    {
     "data": {
      "text/plain": [
       "'Rovio Entertainment Corporation'"
      ]
     },
     "execution_count": 18,
     "metadata": {},
     "output_type": "execute_result"
    }
   ],
   "source": [
    "# company\n",
    "WebDriverWait(_job_listings[1].driver, 3).until(\n",
    "    EC.presence_of_element_located(\n",
    "        (By.XPATH,\n",
    "        \"//*[contains(@class, 'job-details-jobs-unified-top-card__primary-description')]//a[1]\"\n",
    "        )\n",
    "    )\n",
    ").text.strip()"
   ]
  },
  {
   "cell_type": "code",
   "execution_count": 19,
   "id": "1c96bbbe-0a0a-403c-80c8-422eb6a3c382",
   "metadata": {},
   "outputs": [
    {
     "data": {
      "text/plain": [
       "'Rovio Entertainment Corporation · Helsinki, Uusimaa, Finland Reposted  3 weeks ago  · Over 50 applicants'"
      ]
     },
     "execution_count": 19,
     "metadata": {},
     "output_type": "execute_result"
    }
   ],
   "source": [
    "# Location\n",
    "WebDriverWait(_job_listings[1].driver, 3).until(\n",
    "    EC.presence_of_element_located(\n",
    "        (By.XPATH,\n",
    "        \"//*[contains(@class, 'job-details-jobs-unified-top-card__primary-description')]//*\"\n",
    "        )\n",
    "    )\n",
    ").text.strip()"
   ]
  },
  {
   "cell_type": "code",
   "execution_count": 34,
   "id": "aefbc41c-ede7-48d9-a752-931281fa4198",
   "metadata": {},
   "outputs": [
    {
     "data": {
      "text/plain": [
       "'Hybrid'"
      ]
     },
     "execution_count": 34,
     "metadata": {},
     "output_type": "execute_result"
    }
   ],
   "source": [
    "# Job type\n",
    "WebDriverWait(_job_listings[0].driver, 3).until(\n",
    "    EC.presence_of_element_located(\n",
    "        (By.XPATH,\n",
    "        \"//*[contains(@class, 'ui-label ui-label--accent-3 text-body-small')]/span\"\n",
    "        )\n",
    "    )\n",
    ").text.strip()"
   ]
  },
  {
   "cell_type": "code",
   "execution_count": 21,
   "id": "f41733e5-7526-4524-96e8-1a2fa66572df",
   "metadata": {},
   "outputs": [
    {
     "data": {
      "text/plain": [
       "'Full-time'"
      ]
     },
     "execution_count": 21,
     "metadata": {},
     "output_type": "execute_result"
    }
   ],
   "source": [
    "# Job type 2\n",
    "WebDriverWait(_job_listings[1].driver, 3).until(\n",
    "    EC.presence_of_element_located(\n",
    "        (By.XPATH,\n",
    "        \"(//*[contains(@class, 'ui-label ui-label--accent-3 text-body-small')])[2]//span\"\n",
    "        )\n",
    "    )\n",
    ").text.strip()"
   ]
  },
  {
   "cell_type": "code",
   "execution_count": 22,
   "id": "8a8efe79-cd84-46e1-b19c-84f56ee773b0",
   "metadata": {},
   "outputs": [
    {
     "data": {
      "text/plain": [
       "'Reposted  3 weeks ago'"
      ]
     },
     "execution_count": 22,
     "metadata": {},
     "output_type": "execute_result"
    }
   ],
   "source": [
    "# Post Date\n",
    "WebDriverWait(_job_listings[1].driver, 3).until(\n",
    "    EC.presence_of_element_located(\n",
    "        (By.XPATH,\n",
    "        \"//*[contains(@class, 'job-details-jobs-unified-top-card__primary-description')]//span[3]\"\n",
    "        )\n",
    "    )\n",
    ").text.strip()"
   ]
  },
  {
   "cell_type": "code",
   "execution_count": 23,
   "id": "1c8a656d-b8a2-4870-b94a-11f44fc3f064",
   "metadata": {},
   "outputs": [
    {
     "data": {
      "text/plain": [
       "'https://www.linkedin.com/company/rovio/life'"
      ]
     },
     "execution_count": 23,
     "metadata": {},
     "output_type": "execute_result"
    }
   ],
   "source": [
    "# company linkedin url\n",
    "WebDriverWait(_job_listings[1].driver, 3).until(\n",
    "    EC.presence_of_element_located(\n",
    "        (By.XPATH,\n",
    "        \"//*[contains(@class, 'job-details-jobs-unified-top-card__primary-description')]//a\"\n",
    "        )\n",
    "    )\n",
    ").get_attribute(\"href\")"
   ]
  },
  {
   "cell_type": "code",
   "execution_count": 31,
   "id": "fab300ec-062b-468e-992f-24323b272303",
   "metadata": {
    "scrolled": true
   },
   "outputs": [
    {
     "data": {
      "text/plain": [
       "'About the job\\nAt Rovio you will get to work with one of the most famous games IP’s in the world: Angry Birds. Our mission is to “craft joy” for the wide audience that we reach with our games and products. In order to do that, we know that people need to bring their own joy to what we do. That’s why we value work-life balance, say no to crunch culture, and welcome people from all walks of life to join the flock. Today, we are a proud team of 500+ caring and talented professionals representing 54 different nations.\\n\\nWe trust our teams to work autonomously by providing them the right tools and level of responsibility. We believe in our teams to remain creative and to keep learning – as well as ensuring everyone has opportunities for personal growth.\\n\\nData is at the heart of everything we do at Rovio. It enables us to continually improve our games and provide incredible experiences for the millions of users who play our games every day. All of this data is only valuable if it can be used to guide our day to day operations. It is the job of Rovio data craft to turn that raw data into actionable insights for Rovio’s games teams and other business units. The data craft aims to empower Rovio’s teams with insightful data, and also with relevant tools and models that support decision making.\\n\\nWe are looking for a Senior Data Analyst who will be a main driver of Ads growth opportunities based on data insights.\\n\\nYou will have fun at work by doing:\\n\\nProduct/Roadmap Prioritization:\\nDevelop in collaboration with the Ad’s team stakeholders, short to mid-term data project roadmap \\nDefine priorities and work allocation on weekly meetings with Ads Team\\nReporting:\\nBuilding data pipelines and automated analyses using modern scripting methods\\nBuilding meaningful dashboards that answer business questions and improve decision making\\nParticipate in data harmonisation processes by defining requirements, implementing ETL processes and ensuring data quality\\nInsights:\\nOwn data-driven projects from ideation to execution and collaborate with business owners and analytics peers alike\\nStudy changes in key metrics and long-term trends and forecasting \\nWork with game teams to identify white space opportunities for Ads \\n\\nSuperpowers and skills we are looking for:\\n\\nAbility to turn analyses into purposeful action\\nDomain knowledge of Ads or Game analytics\\nProficiency in Python or R\\nUnderstanding of advanced SQL\\nExcellent cooperation and communication skills\\n\\nInterview process:\\n\\nFirst meeting: You will meet the TA Partner to get acquainted and learn more about Rovio and the specifics of the role.\\nCall with a Hiring manager: You will catch up for a short call with your potential manager to dive deeper into your skills and also discuss what motivates you.\\nTest: a technical assignment that will take you no longer than 2 hours. \\nTechnical panel interview: You will meet some of teammates. Our aim is to get a clear overview of your hard skills and where we can help you develop.\\nFinal meeting: You will have a chat with some team members and the relevant stakeholders from other teams. The goal is to discuss your career ambitions and expectations, and also how you would fit with our working culture.'"
      ]
     },
     "execution_count": 31,
     "metadata": {},
     "output_type": "execute_result"
    }
   ],
   "source": [
    "# Job description\n",
    "job_description_elem = WebDriverWait(_job_listings[1].driver, 3).until(\n",
    "    EC.presence_of_element_located(\n",
    "        (By.XPATH,\n",
    "        \"//*[contains(@class, 'jobs-description')]\"\n",
    "        )\n",
    "    )\n",
    ")\n",
    "\n",
    "job_description_elem.text.strip()"
   ]
  },
  {
   "cell_type": "code",
   "execution_count": 30,
   "id": "513f6811-6567-44e1-ab9c-9757241568ed",
   "metadata": {},
   "outputs": [
    {
     "data": {
      "text/plain": [
       "'Data Analysis, Python (Programming Language), and SQL'"
      ]
     },
     "execution_count": 30,
     "metadata": {},
     "output_type": "execute_result"
    }
   ],
   "source": [
    "# First set of skills added by the job poster\n",
    "WebDriverWait(_job_listings[1].driver, 3).until(\n",
    "    EC.presence_of_element_located(\n",
    "        (By.XPATH,\n",
    "        \"//*[contains(@class, 'job-details-how-you-match__skills-item')][1]//a\"\n",
    "        )\n",
    "    )\n",
    ").text"
   ]
  },
  {
   "cell_type": "code",
   "execution_count": 18,
   "id": "44672dfa-62a1-4d98-b34e-09a19cc0ad5c",
   "metadata": {},
   "outputs": [
    {
     "data": {
      "text/plain": [
       "'Advertising, Communication, Dashboards, Gameplay, Key Metrics, Knowledge Acquisition, and Teamwork'"
      ]
     },
     "execution_count": 18,
     "metadata": {},
     "output_type": "execute_result"
    }
   ],
   "source": [
    "# 2nd set of skills added by the job poster\n",
    "WebDriverWait(_job_listings[0].driver, 3).until(\n",
    "    EC.presence_of_element_located(\n",
    "        (By.XPATH,\n",
    "        \"//*[contains(@class, 'job-details-how-you-match__skills-item')][2]//a\"\n",
    "        )\n",
    "    )\n",
    ").text"
   ]
  },
  {
   "cell_type": "code",
   "execution_count": 28,
   "id": "581b2ce0-7d74-4c3e-b7e6-230fa180e878",
   "metadata": {},
   "outputs": [
    {
     "data": {
      "text/plain": [
       "''"
      ]
     },
     "execution_count": 28,
     "metadata": {},
     "output_type": "execute_result"
    }
   ],
   "source": [
    "# Salary range and benefits\n",
    "WebDriverWait(_job_listings[1].driver, 3).until(\n",
    "    EC.presence_of_element_located(\n",
    "        (By.XPATH,\n",
    "        \"//*[contains(@class, 'salary-main-rail-card')]\"\n",
    "        )\n",
    "    )\n",
    ").text.strip()"
   ]
  },
  {
   "cell_type": "code",
   "execution_count": 29,
   "id": "165ee93f-f261-414b-abce-33e294eb4755",
   "metadata": {},
   "outputs": [
    {
     "ename": "TimeoutException",
     "evalue": "Message: \nStacktrace:\n#0 0x5583a58504e3 <unknown>\n#1 0x5583a557fc76 <unknown>\n#2 0x5583a55bbc96 <unknown>\n#3 0x5583a55bbdc1 <unknown>\n#4 0x5583a55f57f4 <unknown>\n#5 0x5583a55db03d <unknown>\n#6 0x5583a55f330e <unknown>\n#7 0x5583a55dade3 <unknown>\n#8 0x5583a55b02dd <unknown>\n#9 0x5583a55b134e <unknown>\n#10 0x5583a58103e4 <unknown>\n#11 0x5583a58143d7 <unknown>\n#12 0x5583a581eb20 <unknown>\n#13 0x5583a5815023 <unknown>\n#14 0x5583a57e31aa <unknown>\n#15 0x5583a58396b8 <unknown>\n#16 0x5583a5839847 <unknown>\n#17 0x5583a5849243 <unknown>\n#18 0x7f66d4294ac3 <unknown>\n",
     "output_type": "error",
     "traceback": [
      "\u001b[0;31m---------------------------------------------------------------------------\u001b[0m",
      "\u001b[0;31mTimeoutException\u001b[0m                          Traceback (most recent call last)",
      "Cell \u001b[0;32mIn[29], line 2\u001b[0m\n\u001b[1;32m      1\u001b[0m \u001b[38;5;66;03m# Seniority\u001b[39;00m\n\u001b[0;32m----> 2\u001b[0m \u001b[43mWebDriverWait\u001b[49m\u001b[43m(\u001b[49m\u001b[43m_job_listings\u001b[49m\u001b[43m[\u001b[49m\u001b[38;5;241;43m1\u001b[39;49m\u001b[43m]\u001b[49m\u001b[38;5;241;43m.\u001b[39;49m\u001b[43mdriver\u001b[49m\u001b[43m,\u001b[49m\u001b[43m \u001b[49m\u001b[38;5;241;43m3\u001b[39;49m\u001b[43m)\u001b[49m\u001b[38;5;241;43m.\u001b[39;49m\u001b[43muntil\u001b[49m\u001b[43m(\u001b[49m\n\u001b[1;32m      3\u001b[0m \u001b[43m    \u001b[49m\u001b[43mEC\u001b[49m\u001b[38;5;241;43m.\u001b[39;49m\u001b[43mpresence_of_element_located\u001b[49m\u001b[43m(\u001b[49m\n\u001b[1;32m      4\u001b[0m \u001b[43m        \u001b[49m\u001b[43m(\u001b[49m\u001b[43mBy\u001b[49m\u001b[38;5;241;43m.\u001b[39;49m\u001b[43mXPATH\u001b[49m\u001b[43m,\u001b[49m\n\u001b[1;32m      5\u001b[0m \u001b[43m        \u001b[49m\u001b[38;5;124;43m\"\u001b[39;49m\u001b[38;5;124;43m//*[contains(@class, \u001b[39;49m\u001b[38;5;124;43m'\u001b[39;49m\u001b[38;5;124;43mjob-details-jobs-unified-top-card__job-insight-view-model-secondary\u001b[39;49m\u001b[38;5;124;43m'\u001b[39;49m\u001b[38;5;124;43m)][2]\u001b[39;49m\u001b[38;5;124;43m\"\u001b[39;49m\n\u001b[1;32m      6\u001b[0m \u001b[43m        \u001b[49m\u001b[43m)\u001b[49m\n\u001b[1;32m      7\u001b[0m \u001b[43m    \u001b[49m\u001b[43m)\u001b[49m\n\u001b[1;32m      8\u001b[0m \u001b[43m)\u001b[49m\u001b[38;5;241m.\u001b[39mtext\u001b[38;5;241m.\u001b[39mstrip()\n",
      "File \u001b[0;32m~/repos/ds-employment-landscape/.venv/lib/python3.10/site-packages/selenium/webdriver/support/wait.py:95\u001b[0m, in \u001b[0;36mWebDriverWait.until\u001b[0;34m(self, method, message)\u001b[0m\n\u001b[1;32m     93\u001b[0m     \u001b[38;5;28;01mif\u001b[39;00m time\u001b[38;5;241m.\u001b[39mmonotonic() \u001b[38;5;241m>\u001b[39m end_time:\n\u001b[1;32m     94\u001b[0m         \u001b[38;5;28;01mbreak\u001b[39;00m\n\u001b[0;32m---> 95\u001b[0m \u001b[38;5;28;01mraise\u001b[39;00m TimeoutException(message, screen, stacktrace)\n",
      "\u001b[0;31mTimeoutException\u001b[0m: Message: \nStacktrace:\n#0 0x5583a58504e3 <unknown>\n#1 0x5583a557fc76 <unknown>\n#2 0x5583a55bbc96 <unknown>\n#3 0x5583a55bbdc1 <unknown>\n#4 0x5583a55f57f4 <unknown>\n#5 0x5583a55db03d <unknown>\n#6 0x5583a55f330e <unknown>\n#7 0x5583a55dade3 <unknown>\n#8 0x5583a55b02dd <unknown>\n#9 0x5583a55b134e <unknown>\n#10 0x5583a58103e4 <unknown>\n#11 0x5583a58143d7 <unknown>\n#12 0x5583a581eb20 <unknown>\n#13 0x5583a5815023 <unknown>\n#14 0x5583a57e31aa <unknown>\n#15 0x5583a58396b8 <unknown>\n#16 0x5583a5839847 <unknown>\n#17 0x5583a5849243 <unknown>\n#18 0x7f66d4294ac3 <unknown>\n"
     ]
    }
   ],
   "source": [
    "# Seniority\n",
    "WebDriverWait(_job_listings[1].driver, 3).until(\n",
    "    EC.presence_of_element_located(\n",
    "        (By.XPATH,\n",
    "        \"//*[contains(@class, 'job-details-jobs-unified-top-card__job-insight-view-model-secondary')][2]\"\n",
    "        )\n",
    "    )\n",
    ").text.strip()"
   ]
  },
  {
   "cell_type": "code",
   "execution_count": 53,
   "id": "ec63a195-6b5e-41f3-a114-069d58663c8d",
   "metadata": {},
   "outputs": [],
   "source": [
    "driver = webdriver.Chrome(options=set_chrome_options())\n",
    "actions.login(driver, os.environ[\"EMAIL\"], os.environ[\"PWORD\"]) # if email and password isnt given, it'll prompt in terminal\n",
    "# job = _Job(linkedin_url=\"https://www.linkedin.com/jobs/collections/recommended/?currentJobId=3736532279\", \n",
    "#            driver=driver, close_on_complete=False, scrape=True)"
   ]
  },
  {
   "cell_type": "markdown",
   "id": "2e46ce1a-a693-4928-af1c-45583707041a",
   "metadata": {},
   "source": [
    "## Overwrite the crawler methods to debug"
   ]
  },
  {
   "cell_type": "code",
   "execution_count": 3,
   "id": "457ef808-5c81-41b3-bb06-535d3babbab1",
   "metadata": {},
   "outputs": [],
   "source": [
    "import logging\n",
    "from linkedin_scraper import Job\n",
    "\n",
    "from selenium.common.exceptions import TimeoutException\n",
    "from selenium.webdriver.common.by import By\n",
    "from selenium.webdriver.support.wait import WebDriverWait\n",
    "from selenium.webdriver.support import expected_conditions as EC\n",
    "\n",
    "from bs4 import BeautifulSoup\n",
    "\n",
    "logging.basicConfig(level=logging.INFO)\n",
    "logger = logging.getLogger(__name__)\n",
    "\n",
    "class _Job(Job):\n",
    "    def __init__(self, **kwargs):\n",
    "       self.job_title = \"\"\n",
    "       self.required_skills = \"\"\n",
    "       self.job_type_1 = \"\"\n",
    "       self.job_type_2 = \"\"\n",
    " \n",
    "       super().__init__(**kwargs)\n",
    "    \n",
    "    def scrape_logged_in(self, close_on_complete=True):\n",
    "        driver = self.driver\n",
    "        \n",
    "        driver.get(self.linkedin_url)\n",
    "        self.focus()\n",
    "        self.job_title = self.wait_for_element_to_load(by=By.XPATH, name=\"//*[contains(@class, 'jobs-unified-top-card__job-title')]\").text.strip()\n",
    "        self.company = self.wait_for_element_to_load(by=By.XPATH, name=\"//*[contains(@class, 'job-details-jobs-unified-top-card__primary-description')]//a[1]\").text.strip()\n",
    "        self.company_linkedin_url = self.wait_for_element_to_load(by=By.XPATH, name=\"//*[contains(@class, 'job-details-jobs-unified-top-card__primary-description')]//a\").get_attribute(\"href\")\n",
    "        self.location = self.wait_for_element_to_load(by=By.XPATH, name=\"//*[contains(@class, 'job-details-jobs-unified-top-card__primary-description')]//*\").text.strip()\n",
    "        self.posted_date = self.wait_for_element_to_load(by=By.XPATH, name=\"//*[contains(@class, 'job-details-jobs-unified-top-card__primary-description')]//span[3]\").text.strip()\n",
    "        self.job_type_1 = self.wait_for_element_to_load(by=By.XPATH, name=\"//*[contains(@class, 'ui-label ui-label--accent-3 text-body-small')]/span\").text.strip()\n",
    "\n",
    "        job_description_elem = self.wait_for_element_to_load(by=By.XPATH, name=\"//*[contains(@class, 'jobs-description')]\")\n",
    "        inner_html = job_description_elem.get_attribute(name=\"innerHTML\")\n",
    "        soup = BeautifulSoup(inner_html, 'html.parser')\n",
    "        \n",
    "        self.job_description = '\\n'.join(\n",
    "            elem.get_text() for elem in soup.find_all() if elem.name in [\"span\", \"ul\", \"strong\", \"li\"]\n",
    "        )\n",
    "        \n",
    "        try:\n",
    "            self.required_skills = self.wait_for_element_to_load(by=By.XPATH, name=\"//*[contains(@class, 'job-details-how-you-match__skills-item')][1]//a\").text.strip()\n",
    "        except TimeoutException as e:\n",
    "            logger.error(str(e))\n",
    "\n",
    "        try:\n",
    "            self.required_skills += self.wait_for_element_to_load(by=By.XPATH, name=\"//*[contains(@class, 'job-details-how-you-match__skills-item')][2]//a\").text.strip()\n",
    "        except TimeoutException as e:\n",
    "            logger.error(str(e))\n",
    "\n",
    "        try:\n",
    "            self.job_type_2 = self.wait_for_element_to_load(by=By.XPATH, name=\"(//*[contains(@class, 'ui-label ui-label--accent-3 text-body-small')])[2]/span\").text.strip()\n",
    "        except TimeoutException:\n",
    "            self.job_type_2 = \"\"\n",
    "            \n",
    "        try:\n",
    "            self.applicant_count = self.wait_for_element_to_load(by=By.XPATH, name=\"jobs-unified-top-card__applicant-count\").text.strip()\n",
    "        except TimeoutException:\n",
    "            self.applicant_count = 0\n",
    "        \n",
    "        try:\n",
    "            self.benefits = self.wait_for_element_to_load(by=By.XPATH, name=\"//*[contains(@class, 'salary-main-rail-card')]\").text.strip()\n",
    "        except TimeoutException:\n",
    "            self.benefits = \"\"\n",
    "\n",
    "        if close_on_complete:\n",
    "            driver.close()"
   ]
  },
  {
   "cell_type": "code",
   "execution_count": 4,
   "id": "0c07dad8-248e-4d4d-ad43-e35f92fff5dc",
   "metadata": {},
   "outputs": [],
   "source": [
    "from selenium import webdriver\n",
    "from selenium.webdriver.chrome.options import Options\n",
    "from linkedin_scraper import actions\n",
    "\n",
    "import os\n",
    "\n",
    "def set_chrome_options() -> Options:\n",
    "    \"\"\"Sets chrome options for Selenium.\n",
    "    Chrome options for headless browser is enabled.\n",
    "    \"\"\"\n",
    "    chrome_options = Options()\n",
    "    chrome_options.add_argument(\"--headless\")\n",
    "    chrome_options.add_argument(\"--no-sandbox\")\n",
    "    chrome_options.add_argument(\"--disable-dev-shm-usage\")\n",
    "    chrome_prefs = {}\n",
    "    chrome_options.experimental_options[\"prefs\"] = chrome_prefs\n",
    "    chrome_prefs[\"profile.default_content_settings\"] = {\"images\": 2}\n",
    "    return chrome_options\n",
    "\n",
    "def _scrape_job(job_link):\n",
    "    driver = webdriver.Chrome(options=set_chrome_options())\n",
    "    actions.login(driver, os.environ[\"EMAIL\"], os.environ[\"PWORD\"]) # if email and password isnt given, it'll prompt in terminal\n",
    "    job = _Job(linkedin_url=job_link, driver=driver, close_on_complete=False, scrape=True)\n",
    "    return job\n",
    "\n",
    "_test_job = _scrape_job('https://www.linkedin.com/jobs/view/3702242885')"
   ]
  },
  {
   "cell_type": "code",
   "execution_count": 5,
   "id": "bfe2e7f8-6bc5-463f-89d3-4bab419bc2f5",
   "metadata": {},
   "outputs": [
    {
     "data": {
      "text/plain": [
       "{'job_title': 'Senior Data Analyst, Ads',\n",
       " 'required_skills': 'Data Analysis, Python (Programming Language), and SQLAdvertising, Communication, Dashboards, Gameplay, Key Metrics, Knowledge Acquisition, and Teamwork',\n",
       " 'job_type_1': 'Hybrid',\n",
       " 'job_type_2': 'Full-time',\n",
       " 'driver': <selenium.webdriver.chrome.webdriver.WebDriver (session=\"a81a6002b39ce9765c484e23ba0ecc43\")>,\n",
       " 'linkedin_url': 'https://www.linkedin.com/jobs/view/3702242885',\n",
       " 'company': 'Rovio Entertainment Corporation',\n",
       " 'company_linkedin_url': 'https://www.linkedin.com/company/rovio/life',\n",
       " 'location': 'Rovio Entertainment Corporation · Helsinki, Uusimaa, Finland Reposted  3 weeks ago  · Over 50 applicants',\n",
       " 'posted_date': 'Reposted  3 weeks ago',\n",
       " 'applicant_count': 0,\n",
       " 'job_description': '\\nAt Rovio you will get to work with one of the most famous games IP’s in the world: Angry Birds. Our mission is to “craft joy” for the wide audience that we reach with our games and products. In order to do that, we know that people need to bring their own joy to what we do. That’s why we value work-life balance, say no to crunch culture, and welcome people from all walks of life to join the flock. Today, we are a proud team of 500+ caring and talented professionals representing 54 different nations.We trust our teams to work autonomously by providing them the right tools and level of responsibility. We believe in our teams to remain creative and to keep learning – as well as ensuring everyone has opportunities for personal growth.Data is at the heart of everything we do at Rovio. It enables us to continually improve our games and provide incredible experiences for the millions of users who play our games every day. All of this data is only valuable if it can be used to guide our day to day operations. It is the job of Rovio data craft to turn that raw data into actionable insights for Rovio’s games teams and other business units. The data craft aims to empower Rovio’s teams with insightful data, and also with relevant tools and models that support decision making.We are looking for a Senior Data Analyst who will be a main driver of Ads growth opportunities based on data insights.You will have fun at work by doing: Product/Roadmap Prioritization:Develop in collaboration with the Ad’s team stakeholders, short to mid-term data project roadmap Define priorities and work allocation on weekly meetings with Ads TeamReporting:Building data pipelines and automated analyses using modern scripting methodsBuilding meaningful dashboards that answer business questions and improve decision makingParticipate in data harmonisation processes by defining requirements, implementing ETL processes and ensuring data qualityInsights:Own data-driven projects from ideation to execution and collaborate with business owners and analytics peers alikeStudy changes in key metrics and long-term trends and forecasting Work with game teams to identify white space opportunities for Ads \\nSuperpowers and skills we are looking for: Ability to turn analyses into purposeful actionDomain knowledge of Ads or Game analyticsProficiency in Python or RUnderstanding of advanced SQLExcellent cooperation and communication skills\\nInterview process: First meeting: You will meet the TA Partner to get acquainted and learn more about Rovio and the specifics of the role.Call with a Hiring manager: You will catch up for a short call with your potential manager to dive deeper into your skills and also discuss what motivates you.Test: a technical assignment that will take you no longer than 2 hours. Technical panel interview: You will meet some of teammates. Our aim is to get a clear overview of your hard skills and where we can help you develop.Final meeting: You will have a chat with some team members and the relevant stakeholders from other teams. The goal is to discuss your career ambitions and expectations, and also how you would fit with our working culture.\\n \\nYou will have fun at work by doing:\\nProduct/Roadmap Prioritization:Develop in collaboration with the Ad’s team stakeholders, short to mid-term data project roadmap Define priorities and work allocation on weekly meetings with Ads TeamReporting:Building data pipelines and automated analyses using modern scripting methodsBuilding meaningful dashboards that answer business questions and improve decision makingParticipate in data harmonisation processes by defining requirements, implementing ETL processes and ensuring data qualityInsights:Own data-driven projects from ideation to execution and collaborate with business owners and analytics peers alikeStudy changes in key metrics and long-term trends and forecasting Work with game teams to identify white space opportunities for Ads \\nProduct/Roadmap Prioritization:\\nDevelop in collaboration with the Ad’s team stakeholders, short to mid-term data project roadmap \\n \\nDefine priorities and work allocation on weekly meetings with Ads Team\\nReporting:\\nBuilding data pipelines and automated analyses using modern scripting methods\\nBuilding meaningful dashboards that answer business questions and improve decision making\\nParticipate in data harmonisation processes by defining requirements, implementing ETL processes and ensuring data quality\\nInsights:\\nOwn data-driven projects from ideation to execution and collaborate with business owners and analytics peers alike\\nStudy changes in key metrics and long-term trends and forecasting \\n \\nWork with game teams to identify white space opportunities for Ads \\n \\nSuperpowers and skills we are looking for:\\nAbility to turn analyses into purposeful actionDomain knowledge of Ads or Game analyticsProficiency in Python or RUnderstanding of advanced SQLExcellent cooperation and communication skills\\nAbility to turn analyses into purposeful action\\nDomain knowledge of Ads or Game analytics\\nProficiency in Python or R\\nUnderstanding of advanced SQL\\nExcellent cooperation and communication skills\\nInterview process:\\nFirst meeting: You will meet the TA Partner to get acquainted and learn more about Rovio and the specifics of the role.Call with a Hiring manager: You will catch up for a short call with your potential manager to dive deeper into your skills and also discuss what motivates you.Test: a technical assignment that will take you no longer than 2 hours. Technical panel interview: You will meet some of teammates. Our aim is to get a clear overview of your hard skills and where we can help you develop.Final meeting: You will have a chat with some team members and the relevant stakeholders from other teams. The goal is to discuss your career ambitions and expectations, and also how you would fit with our working culture.\\nFirst meeting: You will meet the TA Partner to get acquainted and learn more about Rovio and the specifics of the role.\\nCall with a Hiring manager: You will catch up for a short call with your potential manager to dive deeper into your skills and also discuss what motivates you.\\nTest: a technical assignment that will take you no longer than 2 hours. \\n \\nTechnical panel interview: You will meet some of teammates. Our aim is to get a clear overview of your hard skills and where we can help you develop.\\nFinal meeting: You will have a chat with some team members and the relevant stakeholders from other teams. The goal is to discuss your career ambitions and expectations, and also how you would fit with our working culture.\\n\\n    See more\\n',\n",
       " 'benefits': ''}"
      ]
     },
     "execution_count": 5,
     "metadata": {},
     "output_type": "execute_result"
    }
   ],
   "source": [
    "vars(_test_job)"
   ]
  },
  {
   "cell_type": "code",
   "execution_count": 41,
   "id": "1d93e497-cb5b-4a7c-9ee2-3b42c155c8b7",
   "metadata": {},
   "outputs": [
    {
     "data": {
      "text/plain": [
       "'\\n\\n<!---->\\n      <article class=\"jobs-description__container\\n          jobs-description__container--condensed\">\\n        <div class=\"jobs-description__content jobs-description-content\\n            jobs-description__content--condensed\">\\n          <div class=\"jobs-box__html-content jobs-description-content__text t-14 t-normal\\n              jobs-description-content__text--stretch\" id=\"job-details\" tabindex=\"-1\">\\n            <h2 class=\"text-heading-large\\n                mb4\">\\n              About the job\\n            </h2>\\n\\n<!---->\\n<!---->            <span>\\n                <!---->At Rovio you will get to work with one of the most famous games IP’s in the world: Angry Birds. Our mission is to “craft joy” for the wide audience that we reach with our games and products. In order to do that, we know that people need to bring their own joy to what we do. That’s why we value work-life balance, say no to crunch culture, and welcome people from all walks of life to join the flock. Today, we are a proud team of 500+ caring and talented professionals representing 54 different nations.<!----><br><br><!---->We trust our teams to work autonomously by providing them the right tools and level of responsibility. We believe in our teams to remain creative and to keep learning – as well as ensuring everyone has opportunities for personal growth.<!----><br><br><!---->Data is at the heart of everything we do at Rovio. It enables us to continually improve our games and provide incredible experiences for the millions of users who play our games every day. All of this data is only valuable if it can be used to guide our day to day operations. It is the job of Rovio data craft to turn that raw data into actionable insights for Rovio’s games teams and other business units. The data craft aims to empower Rovio’s teams with insightful data, and also with relevant tools and models that support decision making.<!----><br><br><!---->We are looking for a Senior Data Analyst who will be a main driver of Ads growth opportunities based on data insights.<!----><br><br><strong><!---->You will have fun at work by doing:<!----><br><br></strong>      <ul><li><!---->Product/Roadmap Prioritization:<!----></li><li><!---->Develop in collaboration with the Ad’s team stakeholders, short to mid-term data project roadmap<span class=\"white-space-pre\"> </span></li><li><!---->Define priorities and work allocation on weekly meetings with Ads Team<!----></li><li><!---->Reporting:<!----></li><li><!---->Building data pipelines and automated analyses using modern scripting methods<!----></li><li><!---->Building meaningful dashboards that answer business questions and improve decision making<!----></li><li><!---->Participate in data harmonisation processes by defining requirements, implementing ETL processes and ensuring data quality<!----></li><li><!---->Insights:<!----></li><li><!---->Own data-driven projects from ideation to execution and collaborate with business owners and analytics peers alike<!----></li><li><!---->Study changes in key metrics and long-term trends and forecasting<span class=\"white-space-pre\"> </span></li><li><!---->Work with game teams to identify white space opportunities for Ads<span class=\"white-space-pre\"> </span><br><br></li></ul>\\n<strong><!---->Superpowers and skills we are looking for:<!----><br><br></strong>      <ul><li><!---->Ability to turn analyses into purposeful action<!----></li><li><!---->Domain knowledge of Ads or Game analytics<!----></li><li><!---->Proficiency in Python or R<!----></li><li><!---->Understanding of advanced SQL<!----></li><li><!---->Excellent cooperation and communication skills<!----><br><br></li></ul>\\n<strong><!---->Interview process:<!----><br><br></strong>      <ul><li><!---->First meeting: You will meet the TA Partner to get acquainted and learn more about Rovio and the specifics of the role.<!----></li><li><!---->Call with a Hiring manager: You will catch up for a short call with your potential manager to dive deeper into your skills and also discuss what motivates you.<!----></li><li><!---->Test: a technical assignment that will take you no longer than 2 hours.<span class=\"white-space-pre\"> </span></li><li><!---->Technical panel interview: You will meet some of teammates. Our aim is to get a clear overview of your hard skills and where we can help you develop.<!----></li><li><!---->Final meeting: You will have a chat with some team members and the relevant stakeholders from other teams. The goal is to discuss your career ambitions and expectations, and also how you would fit with our working culture.<!----></li></ul>\\n\\n<!---->            </span>\\n          </div>\\n<!---->          <div class=\"jobs-description__details\">\\n<!---->          </div>\\n        </div>\\n      </article>\\n        <footer>\\n          <button aria-label=\"Click to see more description\" aria-expanded=\"false\" id=\"ember38\" class=\"jobs-description__footer-button t-14 t-black--light t-bold artdeco-card__action artdeco-button artdeco-button--icon-right artdeco-button--3 artdeco-button--fluid artdeco-button--tertiary ember-view\">    <li-icon aria-hidden=\"true\" type=\"chevron-down\" class=\"artdeco-button__icon\" size=\"small\"><svg xmlns=\"http://www.w3.org/2000/svg\" viewBox=\"0 0 16 16\" data-supported-dps=\"16x16\" fill=\"currentColor\" class=\"mercado-match\" width=\"16\" height=\"16\" focusable=\"false\">\\n      <path d=\"M1 5l7 4.61L15 5v2.39L8 12 1 7.39z\"></path>\\n    </svg></li-icon>\\n\\n<span class=\"artdeco-button__text\">\\n    See more\\n</span></button>\\n        </footer>\\n    '"
      ]
     },
     "execution_count": 41,
     "metadata": {},
     "output_type": "execute_result"
    }
   ],
   "source": [
    "# _test_job.job_description_elem.get_attribute(name=\"innerHTML\")"
   ]
  },
  {
   "cell_type": "code",
   "execution_count": 42,
   "id": "c795d6f3-eed8-4814-8266-74f7a4449113",
   "metadata": {},
   "outputs": [],
   "source": [
    "inner_html = _test_job.job_description_elem.get_attribute(name=\"innerHTML\")\n",
    "from bs4 import BeautifulSoup"
   ]
  },
  {
   "cell_type": "code",
   "execution_count": 44,
   "id": "1c8378f2-47ca-4cb0-8221-bfdac7f1cf45",
   "metadata": {},
   "outputs": [
    {
     "data": {
      "text/plain": [
       "'\\n\\n\\n\\n\\n\\n              About the job\\n            \\n\\n \\nAt Rovio you will get to work with one of the most famous games IP’s in the world: Angry Birds. Our mission is to “craft joy” for the wide audience that we reach with our games and products. In order to do that, we know that people need to bring their own joy to what we do. That’s why we value work-life balance, say no to crunch culture, and welcome people from all walks of life to join the flock. Today, we are a proud team of 500+ caring and talented professionals representing 54 different nations.We trust our teams to work autonomously by providing them the right tools and level of responsibility. We believe in our teams to remain creative and to keep learning – as well as ensuring everyone has opportunities for personal growth.Data is at the heart of everything we do at Rovio. It enables us to continually improve our games and provide incredible experiences for the millions of users who play our games every day. All of this data is only valuable if it can be used to guide our day to day operations. It is the job of Rovio data craft to turn that raw data into actionable insights for Rovio’s games teams and other business units. The data craft aims to empower Rovio’s teams with insightful data, and also with relevant tools and models that support decision making.We are looking for a Senior Data Analyst who will be a main driver of Ads growth opportunities based on data insights.You will have fun at work by doing: Product/Roadmap Prioritization:Develop in collaboration with the Ad’s team stakeholders, short to mid-term data project roadmap Define priorities and work allocation on weekly meetings with Ads TeamReporting:Building data pipelines and automated analyses using modern scripting methodsBuilding meaningful dashboards that answer business questions and improve decision makingParticipate in data harmonisation processes by defining requirements, implementing ETL processes and ensuring data qualityInsights:Own data-driven projects from ideation to execution and collaborate with business owners and analytics peers alikeStudy changes in key metrics and long-term trends and forecasting Work with game teams to identify white space opportunities for Ads \\nSuperpowers and skills we are looking for: Ability to turn analyses into purposeful actionDomain knowledge of Ads or Game analyticsProficiency in Python or RUnderstanding of advanced SQLExcellent cooperation and communication skills\\nInterview process: First meeting: You will meet the TA Partner to get acquainted and learn more about Rovio and the specifics of the role.Call with a Hiring manager: You will catch up for a short call with your potential manager to dive deeper into your skills and also discuss what motivates you.Test: a technical assignment that will take you no longer than 2 hours. Technical panel interview: You will meet some of teammates. Our aim is to get a clear overview of your hard skills and where we can help you develop.Final meeting: You will have a chat with some team members and the relevant stakeholders from other teams. The goal is to discuss your career ambitions and expectations, and also how you would fit with our working culture.\\n \\n\\n \\n \\n\\n\\n\\n \\n\\n\\n\\n    See more\\n\\n\\n'"
      ]
     },
     "execution_count": 44,
     "metadata": {},
     "output_type": "execute_result"
    }
   ],
   "source": [
    "soup = BeautifulSoup(inner_html, 'html.parser')\n",
    "soup.get_text()"
   ]
  },
  {
   "cell_type": "code",
   "execution_count": 54,
   "id": "086a52dc-4071-4d98-a975-a27bd282da0d",
   "metadata": {},
   "outputs": [
    {
     "name": "stdout",
     "output_type": "stream",
     "text": [
      "span\n",
      "\n",
      "At Rovio you will get to work with one of the most famous games IP’s in the world: Angry Birds. Our mission is to “craft joy” for the wide audience that we reach with our games and products. In order to do that, we know that people need to bring their own joy to what we do. That’s why we value work-life balance, say no to crunch culture, and welcome people from all walks of life to join the flock. Today, we are a proud team of 500+ caring and talented professionals representing 54 different nations.We trust our teams to work autonomously by providing them the right tools and level of responsibility. We believe in our teams to remain creative and to keep learning – as well as ensuring everyone has opportunities for personal growth.Data is at the heart of everything we do at Rovio. It enables us to continually improve our games and provide incredible experiences for the millions of users who play our games every day. All of this data is only valuable if it can be used to guide our day to day operations. It is the job of Rovio data craft to turn that raw data into actionable insights for Rovio’s games teams and other business units. The data craft aims to empower Rovio’s teams with insightful data, and also with relevant tools and models that support decision making.We are looking for a Senior Data Analyst who will be a main driver of Ads growth opportunities based on data insights.You will have fun at work by doing: Product/Roadmap Prioritization:Develop in collaboration with the Ad’s team stakeholders, short to mid-term data project roadmap Define priorities and work allocation on weekly meetings with Ads TeamReporting:Building data pipelines and automated analyses using modern scripting methodsBuilding meaningful dashboards that answer business questions and improve decision makingParticipate in data harmonisation processes by defining requirements, implementing ETL processes and ensuring data qualityInsights:Own data-driven projects from ideation to execution and collaborate with business owners and analytics peers alikeStudy changes in key metrics and long-term trends and forecasting Work with game teams to identify white space opportunities for Ads \n",
      "Superpowers and skills we are looking for: Ability to turn analyses into purposeful actionDomain knowledge of Ads or Game analyticsProficiency in Python or RUnderstanding of advanced SQLExcellent cooperation and communication skills\n",
      "Interview process: First meeting: You will meet the TA Partner to get acquainted and learn more about Rovio and the specifics of the role.Call with a Hiring manager: You will catch up for a short call with your potential manager to dive deeper into your skills and also discuss what motivates you.Test: a technical assignment that will take you no longer than 2 hours. Technical panel interview: You will meet some of teammates. Our aim is to get a clear overview of your hard skills and where we can help you develop.Final meeting: You will have a chat with some team members and the relevant stakeholders from other teams. The goal is to discuss your career ambitions and expectations, and also how you would fit with our working culture.\n",
      " \n",
      "strong\n",
      "You will have fun at work by doing:\n",
      "ul\n",
      "Product/Roadmap Prioritization:Develop in collaboration with the Ad’s team stakeholders, short to mid-term data project roadmap Define priorities and work allocation on weekly meetings with Ads TeamReporting:Building data pipelines and automated analyses using modern scripting methodsBuilding meaningful dashboards that answer business questions and improve decision makingParticipate in data harmonisation processes by defining requirements, implementing ETL processes and ensuring data qualityInsights:Own data-driven projects from ideation to execution and collaborate with business owners and analytics peers alikeStudy changes in key metrics and long-term trends and forecasting Work with game teams to identify white space opportunities for Ads \n",
      "li\n",
      "Product/Roadmap Prioritization:\n",
      "li\n",
      "Develop in collaboration with the Ad’s team stakeholders, short to mid-term data project roadmap \n",
      "span\n",
      " \n",
      "li\n",
      "Define priorities and work allocation on weekly meetings with Ads Team\n",
      "li\n",
      "Reporting:\n",
      "li\n",
      "Building data pipelines and automated analyses using modern scripting methods\n",
      "li\n",
      "Building meaningful dashboards that answer business questions and improve decision making\n",
      "li\n",
      "Participate in data harmonisation processes by defining requirements, implementing ETL processes and ensuring data quality\n",
      "li\n",
      "Insights:\n",
      "li\n",
      "Own data-driven projects from ideation to execution and collaborate with business owners and analytics peers alike\n",
      "li\n",
      "Study changes in key metrics and long-term trends and forecasting \n",
      "span\n",
      " \n",
      "li\n",
      "Work with game teams to identify white space opportunities for Ads \n",
      "span\n",
      " \n",
      "strong\n",
      "Superpowers and skills we are looking for:\n",
      "ul\n",
      "Ability to turn analyses into purposeful actionDomain knowledge of Ads or Game analyticsProficiency in Python or RUnderstanding of advanced SQLExcellent cooperation and communication skills\n",
      "li\n",
      "Ability to turn analyses into purposeful action\n",
      "li\n",
      "Domain knowledge of Ads or Game analytics\n",
      "li\n",
      "Proficiency in Python or R\n",
      "li\n",
      "Understanding of advanced SQL\n",
      "li\n",
      "Excellent cooperation and communication skills\n",
      "strong\n",
      "Interview process:\n",
      "ul\n",
      "First meeting: You will meet the TA Partner to get acquainted and learn more about Rovio and the specifics of the role.Call with a Hiring manager: You will catch up for a short call with your potential manager to dive deeper into your skills and also discuss what motivates you.Test: a technical assignment that will take you no longer than 2 hours. Technical panel interview: You will meet some of teammates. Our aim is to get a clear overview of your hard skills and where we can help you develop.Final meeting: You will have a chat with some team members and the relevant stakeholders from other teams. The goal is to discuss your career ambitions and expectations, and also how you would fit with our working culture.\n",
      "li\n",
      "First meeting: You will meet the TA Partner to get acquainted and learn more about Rovio and the specifics of the role.\n",
      "li\n",
      "Call with a Hiring manager: You will catch up for a short call with your potential manager to dive deeper into your skills and also discuss what motivates you.\n",
      "li\n",
      "Test: a technical assignment that will take you no longer than 2 hours. \n",
      "span\n",
      " \n",
      "li\n",
      "Technical panel interview: You will meet some of teammates. Our aim is to get a clear overview of your hard skills and where we can help you develop.\n",
      "li\n",
      "Final meeting: You will have a chat with some team members and the relevant stakeholders from other teams. The goal is to discuss your career ambitions and expectations, and also how you would fit with our working culture.\n",
      "span\n",
      "\n",
      "    See more\n",
      "\n"
     ]
    }
   ],
   "source": [
    "for elem in soup.find_all():\n",
    "    if elem.name in [\"span\", \"ul\", \"strong\", \"li\"]:\n",
    "        print(elem.name)\n",
    "        print(elem.get_text())"
   ]
  },
  {
   "cell_type": "code",
   "execution_count": 57,
   "id": "f05190f7-34d3-4c30-a74e-45c70b1dc831",
   "metadata": {},
   "outputs": [
    {
     "name": "stdout",
     "output_type": "stream",
     "text": [
      "\n",
      "At Rovio you will get to work with one of the most famous games IP’s in the world: Angry Birds. Our mission is to “craft joy” for the wide audience that we reach with our games and products. In order to do that, we know that people need to bring their own joy to what we do. That’s why we value work-life balance, say no to crunch culture, and welcome people from all walks of life to join the flock. Today, we are a proud team of 500+ caring and talented professionals representing 54 different nations.We trust our teams to work autonomously by providing them the right tools and level of responsibility. We believe in our teams to remain creative and to keep learning – as well as ensuring everyone has opportunities for personal growth.Data is at the heart of everything we do at Rovio. It enables us to continually improve our games and provide incredible experiences for the millions of users who play our games every day. All of this data is only valuable if it can be used to guide our day to day operations. It is the job of Rovio data craft to turn that raw data into actionable insights for Rovio’s games teams and other business units. The data craft aims to empower Rovio’s teams with insightful data, and also with relevant tools and models that support decision making.We are looking for a Senior Data Analyst who will be a main driver of Ads growth opportunities based on data insights.You will have fun at work by doing: Product/Roadmap Prioritization:Develop in collaboration with the Ad’s team stakeholders, short to mid-term data project roadmap Define priorities and work allocation on weekly meetings with Ads TeamReporting:Building data pipelines and automated analyses using modern scripting methodsBuilding meaningful dashboards that answer business questions and improve decision makingParticipate in data harmonisation processes by defining requirements, implementing ETL processes and ensuring data qualityInsights:Own data-driven projects from ideation to execution and collaborate with business owners and analytics peers alikeStudy changes in key metrics and long-term trends and forecasting Work with game teams to identify white space opportunities for Ads \n",
      "Superpowers and skills we are looking for: Ability to turn analyses into purposeful actionDomain knowledge of Ads or Game analyticsProficiency in Python or RUnderstanding of advanced SQLExcellent cooperation and communication skills\n",
      "Interview process: First meeting: You will meet the TA Partner to get acquainted and learn more about Rovio and the specifics of the role.Call with a Hiring manager: You will catch up for a short call with your potential manager to dive deeper into your skills and also discuss what motivates you.Test: a technical assignment that will take you no longer than 2 hours. Technical panel interview: You will meet some of teammates. Our aim is to get a clear overview of your hard skills and where we can help you develop.Final meeting: You will have a chat with some team members and the relevant stakeholders from other teams. The goal is to discuss your career ambitions and expectations, and also how you would fit with our working culture.\n",
      " \n",
      "You will have fun at work by doing:\n",
      "Product/Roadmap Prioritization:Develop in collaboration with the Ad’s team stakeholders, short to mid-term data project roadmap Define priorities and work allocation on weekly meetings with Ads TeamReporting:Building data pipelines and automated analyses using modern scripting methodsBuilding meaningful dashboards that answer business questions and improve decision makingParticipate in data harmonisation processes by defining requirements, implementing ETL processes and ensuring data qualityInsights:Own data-driven projects from ideation to execution and collaborate with business owners and analytics peers alikeStudy changes in key metrics and long-term trends and forecasting Work with game teams to identify white space opportunities for Ads \n",
      "Product/Roadmap Prioritization:\n",
      "Develop in collaboration with the Ad’s team stakeholders, short to mid-term data project roadmap \n",
      " \n",
      "Define priorities and work allocation on weekly meetings with Ads Team\n",
      "Reporting:\n",
      "Building data pipelines and automated analyses using modern scripting methods\n",
      "Building meaningful dashboards that answer business questions and improve decision making\n",
      "Participate in data harmonisation processes by defining requirements, implementing ETL processes and ensuring data quality\n",
      "Insights:\n",
      "Own data-driven projects from ideation to execution and collaborate with business owners and analytics peers alike\n",
      "Study changes in key metrics and long-term trends and forecasting \n",
      " \n",
      "Work with game teams to identify white space opportunities for Ads \n",
      " \n",
      "Superpowers and skills we are looking for:\n",
      "Ability to turn analyses into purposeful actionDomain knowledge of Ads or Game analyticsProficiency in Python or RUnderstanding of advanced SQLExcellent cooperation and communication skills\n",
      "Ability to turn analyses into purposeful action\n",
      "Domain knowledge of Ads or Game analytics\n",
      "Proficiency in Python or R\n",
      "Understanding of advanced SQL\n",
      "Excellent cooperation and communication skills\n",
      "Interview process:\n",
      "First meeting: You will meet the TA Partner to get acquainted and learn more about Rovio and the specifics of the role.Call with a Hiring manager: You will catch up for a short call with your potential manager to dive deeper into your skills and also discuss what motivates you.Test: a technical assignment that will take you no longer than 2 hours. Technical panel interview: You will meet some of teammates. Our aim is to get a clear overview of your hard skills and where we can help you develop.Final meeting: You will have a chat with some team members and the relevant stakeholders from other teams. The goal is to discuss your career ambitions and expectations, and also how you would fit with our working culture.\n",
      "First meeting: You will meet the TA Partner to get acquainted and learn more about Rovio and the specifics of the role.\n",
      "Call with a Hiring manager: You will catch up for a short call with your potential manager to dive deeper into your skills and also discuss what motivates you.\n",
      "Test: a technical assignment that will take you no longer than 2 hours. \n",
      " \n",
      "Technical panel interview: You will meet some of teammates. Our aim is to get a clear overview of your hard skills and where we can help you develop.\n",
      "Final meeting: You will have a chat with some team members and the relevant stakeholders from other teams. The goal is to discuss your career ambitions and expectations, and also how you would fit with our working culture.\n",
      "\n",
      "    See more\n",
      "\n"
     ]
    }
   ],
   "source": [
    "print(\n",
    "    '\\n'.join(elem.get_text() for elem in soup.find_all() if elem.name in [\"span\", \"ul\", \"strong\", \"li\"])\n",
    "     )"
   ]
  },
  {
   "cell_type": "code",
   "execution_count": 11,
   "id": "b6748493-41c6-43c4-83f4-ab9e51ed5218",
   "metadata": {},
   "outputs": [],
   "source": [
    "# Save the crawled webpage\n",
    "from selenium.webdriver.support.wait import WebDriverWait\n",
    "from selenium.webdriver.common.by import By\n",
    "\n",
    "with open(\"job_page_example.html\", \"w\") as f:\n",
    "    f.write(_test_job.driver.page_source)"
   ]
  },
  {
   "cell_type": "markdown",
   "id": "9d5176ea-37a7-4445-8f33-124ec1b4d650",
   "metadata": {},
   "source": [
    "## Debug JobSearch to make it scrape new pages"
   ]
  },
  {
   "cell_type": "code",
   "execution_count": 5,
   "id": "bc91b6f1-321c-44e6-bfaa-2849e524d59d",
   "metadata": {},
   "outputs": [
    {
     "name": "stdout",
     "output_type": "stream",
     "text": [
      "... Logged in.\n"
     ]
    }
   ],
   "source": [
    "from linkedin_scraper import JobSearch\n",
    "\n",
    "driver = webdriver.Chrome(options=set_chrome_options())\n",
    "actions.login(driver, os.environ[\"EMAIL\"], os.environ[\"PWORD\"]) # if email and password isnt given, it'll prompt in terminal\n",
    "print(\"... Logged in.\")\n",
    "job_search = JobSearch(driver=driver, close_on_complete=False, scrape=False)"
   ]
  },
  {
   "cell_type": "code",
   "execution_count": 9,
   "id": "62d3bcdb-95b7-42c8-b2b4-3d52e8f5394f",
   "metadata": {},
   "outputs": [],
   "source": [
    "import urllib\n",
    "url = os.path.join(job_search.base_url, \"search\") + f\"?keywords={urllib.parse.quote('data')}&refresh=true\""
   ]
  },
  {
   "cell_type": "code",
   "execution_count": 10,
   "id": "2057171d-e14e-4496-98a3-b0739e6eaffb",
   "metadata": {},
   "outputs": [],
   "source": [
    "job_search.driver.get(url)"
   ]
  },
  {
   "cell_type": "code",
   "execution_count": 11,
   "id": "f11c9488-c25b-4f95-a22d-55566e1d4b81",
   "metadata": {},
   "outputs": [
    {
     "data": {
      "text/plain": [
       "'https://www.linkedin.com/jobs/search/?currentJobId=3717037977&keywords=data&refresh=true'"
      ]
     },
     "execution_count": 11,
     "metadata": {},
     "output_type": "execute_result"
    }
   ],
   "source": [
    "# Final redirection\n",
    "job_search.driver.current_url"
   ]
  },
  {
   "cell_type": "code",
   "execution_count": 7,
   "id": "2045d786-cfb8-4666-8e97-9097dc4b2934",
   "metadata": {},
   "outputs": [],
   "source": [
    "from linkedin_scraper import JobSearch, Job, actions\n",
    "from typing import List\n",
    "from selenium import webdriver\n",
    "from selenium.webdriver.chrome.options import Options\n",
    "\n",
    "import os\n",
    "from pprint import pprint\n",
    "import urllib\n",
    "from time import sleep\n",
    "\n",
    "def set_chrome_options() -> Options:\n",
    "    \"\"\"Sets chrome options for Selenium.\n",
    "    Chrome options for headless browser is enabled.\n",
    "    \"\"\"\n",
    "    chrome_options = Options()\n",
    "    chrome_options.add_argument(\"--headless\")\n",
    "    chrome_options.add_argument(\"--no-sandbox\")\n",
    "    chrome_options.add_argument(\"--disable-dev-shm-usage\")\n",
    "    chrome_prefs = {}\n",
    "    chrome_options.experimental_options[\"prefs\"] = chrome_prefs\n",
    "    chrome_prefs[\"profile.default_content_settings\"] = {\"images\": 2}\n",
    "    return chrome_options\n",
    "\n",
    "class _JobSearch(JobSearch):\n",
    "    def __init__(self, final_url=None, **kwargs):\n",
    "        self.final_url = final_url\n",
    "        self.current_url = None\n",
    "        super().__init__(**kwargs)\n",
    "    \n",
    "    def search(self, search_term: str, page_n) -> List[Job]:\n",
    "        if self.final_url is None:\n",
    "            self.current_url = os.path.join(self.base_url, \"search\") + f\"?keywords={urllib.parse.quote(search_term)}&refresh=true\"\n",
    "            self.driver.get(self.current_url)\n",
    "\n",
    "            # Get redirection URL\n",
    "            self.final_url = self.driver.current_url\n",
    "        else:\n",
    "            self.current_url = os.path.join(self.final_url, f\"&start={25*(page_n-1)}\")\n",
    "            self.driver.get(self.current_url)\n",
    "        \n",
    "        self.scroll_to_bottom()\n",
    "        self.focus()\n",
    "        sleep(self.WAIT_FOR_ELEMENT_TIMEOUT)\n",
    "\n",
    "        job_listing_class_name = \"jobs-search-results-list\"\n",
    "        job_listing = self.wait_for_element_to_load(name=job_listing_class_name)\n",
    "\n",
    "        self.scroll_class_name_element_to_page_percent(job_listing_class_name, 0.3)\n",
    "        self.focus()\n",
    "        sleep(self.WAIT_FOR_ELEMENT_TIMEOUT)\n",
    "\n",
    "        self.scroll_class_name_element_to_page_percent(job_listing_class_name, 0.6)\n",
    "        self.focus()\n",
    "        sleep(self.WAIT_FOR_ELEMENT_TIMEOUT)\n",
    "\n",
    "        self.scroll_class_name_element_to_page_percent(job_listing_class_name, 1)\n",
    "        self.focus()\n",
    "        sleep(self.WAIT_FOR_ELEMENT_TIMEOUT)\n",
    "\n",
    "        job_results = []\n",
    "        for job_card in self.wait_for_all_elements_to_load(name=\"job-card-list\", base=job_listing):\n",
    "            job = self.scrape_job_card(job_card)\n",
    "            job_results.append(job)\n",
    "        return job_results\n",
    "\n",
    "def _scrape_job_search(final_url, keyword, page_n):\n",
    "    driver = webdriver.Chrome(options=set_chrome_options())\n",
    "    actions.login(driver, os.environ[\"EMAIL\"], os.environ[\"PWORD\"]) # if email and password isnt given, it'll prompt in terminal\n",
    "    print(\"... Logged in.\")\n",
    "    job_search = _JobSearch(driver=driver, close_on_complete=False, scrape=False)\n",
    "\n",
    "    job_listings = job_search.search(keyword, page_n) # returns the list of `Job` from the first page\n",
    "    return job_search, job_listings"
   ]
  },
  {
   "cell_type": "code",
   "execution_count": 8,
   "id": "3be581dc-3311-47ad-8680-b8f6940f9810",
   "metadata": {},
   "outputs": [
    {
     "name": "stdout",
     "output_type": "stream",
     "text": [
      "... Logged in.\n"
     ]
    },
    {
     "data": {
      "text/plain": [
       "[<Job Legal & Compliance Officer Sambla>,\n",
       " <Job Senior Game Analyst Next Games, A Netflix Game Studio>,\n",
       " <Job Data Analyst, Merge Mansion Metacore>,\n",
       " <Job Data Scientist, Data Platform & AI OP Financial Group>,\n",
       " <Job Data Science - Machine Learning Engineer Wolt>,\n",
       " <Job Data Engineer The Hub>,\n",
       " <Job Senior Threat Intelligence Officer, Nordic Nordea>,\n",
       " <Job RWE Scientist / Epidemiologist MedEngine>,\n",
       " <Job Data Platform Engineer COR Group Oy>,\n",
       " <Job Data Engineer Sievo>,\n",
       " <Job Senior Data Analyst, Ads Rovio Entertainment Corporation>,\n",
       " <Job Data & AI Fin Informatica MDM Accenture Nordics>,\n",
       " <Job Senior Legal and Privacy Counsel, Veho Group Veho Oy Ab>,\n",
       " <Job Data Engineer The Hub>]"
      ]
     },
     "execution_count": 8,
     "metadata": {},
     "output_type": "execute_result"
    }
   ],
   "source": [
    "_test_job_search, _test_listings = _scrape_job_search(\"data\", page_n=1)\n",
    "_test_listings"
   ]
  },
  {
   "cell_type": "code",
   "execution_count": 13,
   "id": "39e6bd1d-56ff-4394-8e87-d0f630ad3359",
   "metadata": {},
   "outputs": [
    {
     "data": {
      "text/plain": [
       "[<Job Data Scientist / Senior Data Scientist Basware>,\n",
       " <Job Data Engineer - Tietoevry Care Data and Analytics Tietoevry>,\n",
       " <Job Data Scientist MedEngine>,\n",
       " <Job Data Engineer - Tietoevry Care Data and Analytics Tietoevry>,\n",
       " <Job Data Platform Engineer Scandit>,\n",
       " <Job Data Engineer (Level Up) Loihde Advance>,\n",
       " <Job ETL Specialist Gazelle Global>,\n",
       " <Job Data Engineer - Tietoevry Care Data and Analytics Tietoevry>,\n",
       " <Job Data Engineer - Tietoevry Care Data and Analytics Tietoevry>,\n",
       " <Job IT-asiantuntija Anfra Oy>,\n",
       " <Job (Senior) Data Engineer - Tietoevry Tech Services Tietoevry>,\n",
       " <Job Machine Learning Engineer - MLOps Wolt>,\n",
       " <Job Data Engineer Suomen Palloliitto - Football Association of Finland>,\n",
       " <Job Quantitative Risk Analyst Nordea>,\n",
       " <Job Cloud & Enterprise Architect Samlink – A Kyndryl Company>,\n",
       " <Job Data Engineer Epical>]"
      ]
     },
     "execution_count": 13,
     "metadata": {},
     "output_type": "execute_result"
    }
   ],
   "source": [
    "_test_listings_2 = _test_job_search.search(\"data\", page_n=2)\n",
    "_test_listings_2"
   ]
  },
  {
   "cell_type": "code",
   "execution_count": null,
   "id": "23955bdf-cf7b-4a0f-aee7-afdc79b3621a",
   "metadata": {},
   "outputs": [],
   "source": []
  }
 ],
 "metadata": {
  "kernelspec": {
   "display_name": ".venv",
   "language": "python",
   "name": ".venv"
  },
  "language_info": {
   "codemirror_mode": {
    "name": "ipython",
    "version": 3
   },
   "file_extension": ".py",
   "mimetype": "text/x-python",
   "name": "python",
   "nbconvert_exporter": "python",
   "pygments_lexer": "ipython3",
   "version": "3.10.12"
  }
 },
 "nbformat": 4,
 "nbformat_minor": 5
}
